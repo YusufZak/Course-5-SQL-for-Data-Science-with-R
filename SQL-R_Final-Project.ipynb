{
 "cells": [
  {
   "cell_type": "markdown",
   "metadata": {},
   "source": [
    "<center>\n",
    "    <img src=\"https://s3-api.us-geo.objectstorage.softlayer.net/cf-courses-data/CognitiveClass/Logos/organization_logo/organization_logo.png\" width=\"300\" alt=\"cognitiveclass.ai logo\"  />\n",
    "</center>\n",
    "\n",
    "# Assignment: Notebook for Peer Assignment\n",
    "\n",
    "Estimated time needed: 45 minutes\n"
   ]
  },
  {
   "cell_type": "markdown",
   "metadata": {},
   "source": [
    "# Assignment Scenario\n",
    "\n",
    "Congratulations! You have just been hired by a US Venture Capital firm as a data analyst.\n",
    "\n",
    "The company is considering foreign grain markets to help meet its supply chain requirements for its recent investments in the microbrewery and microdistillery industry, which is involved with the production and distribution of craft beers and spirits.\n",
    "\n",
    "Your first task is to provide a high level analysis of crop production in Canada. Your stakeholders want to understand the current and historical performance of certain crop types in terms of supply and price volatility. For now they are mainly interested in a macro-view of Canada's crop farming industry, and how it relates to the relative value of the Canadian and US dollars.\n"
   ]
  },
  {
   "cell_type": "markdown",
   "metadata": {},
   "source": [
    "# Introduction\n",
    "\n",
    "Using this R notebook you will:\n",
    "\n",
    "1.  Understand four datasets\n",
    "2.  Load the datasets into four separate tables in a Db2 database\n",
    "3.  Execute SQL queries unsing the RODBC R package to answer assignment questions\n",
    "\n",
    "You have already encountered two of these datasets in the previous practice lab. You will be able to reuse much of the work you did there to prepare your database tables for executing SQL queries.\n"
   ]
  },
  {
   "cell_type": "markdown",
   "metadata": {},
   "source": [
    "# Understand the datasets\n",
    "\n",
    "To complete the assignment problems in this notebook you will be using subsetted snapshots of two datasets from Statistics Canada, and one from the Bank of Canada. The links to the prepared datasets are provided in the next section; the interested student can explore the landing pages for the source datasets as follows:\n",
    "\n",
    "1.  <a href=\"https://www150.statcan.gc.ca/t1/tbl1/en/tv.action?utm_medium=Exinfluencer&utm_source=Exinfluencer&utm_content=000026UJ&utm_term=10006555&utm_id=NA-SkillsNetwork-Channel-SkillsNetworkCoursesIBMRP0203ENSkillsNetwork23863830-2021-01-01&pid=3210035901\">Canadian Principal Crops (Data & Metadata)</a>\n",
    "2.  <a href=\"https://www150.statcan.gc.ca/t1/tbl1/en/tv.action?utm_medium=Exinfluencer&utm_source=Exinfluencer&utm_content=000026UJ&utm_term=10006555&utm_id=NA-SkillsNetwork-Channel-SkillsNetworkCoursesIBMRP0203ENSkillsNetwork23863830-2021-01-01&pid=3210007701\">Farm product prices (Data & Metadata)</a>\n",
    "3.  <a href=\"https://www.bankofcanada.ca/rates/exchange/daily-exchange-rates?utm_medium=Exinfluencer&utm_source=Exinfluencer&utm_content=000026UJ&utm_term=10006555&utm_id=NA-SkillsNetwork-Channel-SkillsNetworkCoursesIBMRP0203ENSkillsNetwork23863830-2021-01-01\">Bank of Canada daily average exchange rates</a>\n",
    "\n",
    "### 1. Canadian Principal Crops Data \\*\n",
    "\n",
    "This dataset contains agricultural production measures for the principle crops grown in Canada, including a breakdown by province and teritory, for each year from 1908 to 2020.\n",
    "\n",
    "For this assignment you will use a preprocessed snapshot of this dataset (see below).\n",
    "\n",
    "A detailed description of this dataset can be obtained from the StatsCan Data Portal at:\n",
    "[https://www150.statcan.gc.ca/t1/tbl1/en/tv.action?pid=3210035901](https://www150.statcan.gc.ca/t1/tbl1/en/tv.action?utm_medium=Exinfluencer&utm_source=Exinfluencer&utm_content=000026UJ&utm_term=10006555&utm_id=NA-SkillsNetwork-Channel-SkillsNetworkCoursesIBMRP0203ENSkillsNetwork23863830-2021-01-01&pid=3210035901)\\\n",
    "Detailed information is included in the metadata file and as header text in the data file, which can be downloaded - look for the 'download options' link.\n",
    "\n",
    "### 2. Farm product prices\n",
    "\n",
    "This dataset contains monthly average farm product prices for Canadian crops and livestock by province and teritory, from 1980 to 2020 (or 'last year', whichever is greatest).\n",
    "\n",
    "For this assignment you will use a preprocessed snapshot of this dataset (see below).\n",
    "\n",
    "A description of this dataset can be obtained from the StatsCan Data Portal at:\n",
    "[https://www150.statcan.gc.ca/t1/tbl1/en/tv.action?pid=3210007701](https://www150.statcan.gc.ca/t1/tbl1/en/tv.action?utm_medium=Exinfluencer&utm_source=Exinfluencer&utm_content=000026UJ&utm_term=10006555&utm_id=NA-SkillsNetwork-Channel-SkillsNetworkCoursesIBMRP0203ENSkillsNetwork23863830-2021-01-01&pid=3210007701)\n",
    "The information is included in the metadata file, which can be downloaded - look for the 'download options' link.\n",
    "\n",
    "### 3. Bank of Canada daily average exchange rates \\*\n",
    "\n",
    "This dataset contains the daily average exchange rates for multiple foreign currencies. Exchange rates are expressed as 1 unit of the foreign currency converted into Canadian dollars. It includes only the latest four years of data, and the rates are published once each business day by 16:30 ET.\n",
    "\n",
    "For this assignment you will use a snapshot of this dataset with only the USD-CAD exchange rates included (see next section). We have also prepared a monthly averaged version which you will be using below.\n",
    "\n",
    "A brief description of this dataset and the original dataset can be obtained from the Bank of Canada Data Portal at:\n",
    "[https://www.bankofcanada.ca/rates/exchange/daily-exchange-rates/](https://www.bankofcanada.ca/rates/exchange/daily-exchange-rates/?utm_medium=Exinfluencer&utm_source=Exinfluencer&utm_content=000026UJ&utm_term=10006555&utm_id=NA-SkillsNetwork-Channel-SkillsNetworkCoursesIBMRP0203ENSkillsNetwork23863830-2021-01-01)\n",
    "\n",
    "( \\* these datasets are the same as the ones you used in the practice lab)\n"
   ]
  },
  {
   "cell_type": "markdown",
   "metadata": {},
   "source": [
    "### Dataset URLs\n",
    "\n",
    "1.  Annual Crop Data: <https://cf-courses-data.s3.us.cloud-object-storage.appdomain.cloud/IBM-RP0203EN-SkillsNetwork/labs/Final%20Project/Annual_Crop_Data.csv>\n",
    "\n",
    "2.  Farm product prices: <https://cf-courses-data.s3.us.cloud-object-storage.appdomain.cloud/IBM-RP0203EN-SkillsNetwork/labs/Final%20Project/Monthly_Farm_Prices.csv>\n",
    "\n",
    "3.  Daily FX Data: <https://cf-courses-data.s3.us.cloud-object-storage.appdomain.cloud/IBM-RP0203EN-SkillsNetwork/labs/Final%20Project/Daily_FX.csv>\n",
    "\n",
    "4.  Monthly FX Data: <https://cf-courses-data.s3.us.cloud-object-storage.appdomain.cloud/IBM-RP0203EN-SkillsNetwork/labs/Final%20Project/Monthly_FX.csv>\n",
    "\n",
    "<span style=\"color:red\">**IMPORTANT:**</span> You will be loading these datasets directly into R data frames from these URLs instead of from the StatsCan and Bank of Canada portals. The versions provided at these URLs are simplified and subsetted versions of the original datasets.\n"
   ]
  },
  {
   "cell_type": "markdown",
   "metadata": {},
   "source": [
    "#### Now let's load these datasets into four separate Db2 tables.\n",
    "\n",
    "Let's first load the RODBC package:\n"
   ]
  },
  {
   "cell_type": "code",
   "execution_count": 1,
   "metadata": {},
   "outputs": [],
   "source": [
    "library(RODBC)"
   ]
  },
  {
   "cell_type": "markdown",
   "metadata": {},
   "source": [
    "## Problem 1\n",
    "\n",
    "#### Create tables\n",
    "\n",
    "Establish a connection to the Db2 database, and create the following four tables using the RODBC package in R.\n",
    "Use the separate cells provided below to create each of your tables.\n",
    "\n",
    "1.  **CROP_DATA**\n",
    "2.  **FARM_PRICES**\n",
    "3.  **DAILY_FX**\n",
    "4.  **MONTHLY_FX**\n",
    "\n",
    "The previous practice lab will help you accomplish this.\n"
   ]
  },
  {
   "cell_type": "markdown",
   "metadata": {},
   "source": [
    "### Solution 1\n"
   ]
  },
  {
   "cell_type": "code",
   "execution_count": 2,
   "metadata": {},
   "outputs": [
    {
     "data": {
      "text/html": [
       "'DRIVER={IBM DB2 ODBC Driver};DATABASE=bludb;HOSTNAME=55fbc997-9266-4331-afd3-888b05e734c0.bs2io90l08kqb1od8lcg.databases.appdomain.cloud;PORT=31929;PROTOCOL=TCPIP;UID=gmx74666;PWD=0L7nXAM2OKo5TGZs;SECURITY=ssl'"
      ],
      "text/latex": [
       "'DRIVER=\\{IBM DB2 ODBC Driver\\};DATABASE=bludb;HOSTNAME=55fbc997-9266-4331-afd3-888b05e734c0.bs2io90l08kqb1od8lcg.databases.appdomain.cloud;PORT=31929;PROTOCOL=TCPIP;UID=gmx74666;PWD=0L7nXAM2OKo5TGZs;SECURITY=ssl'"
      ],
      "text/markdown": [
       "'DRIVER={IBM DB2 ODBC Driver};DATABASE=bludb;HOSTNAME=55fbc997-9266-4331-afd3-888b05e734c0.bs2io90l08kqb1od8lcg.databases.appdomain.cloud;PORT=31929;PROTOCOL=TCPIP;UID=gmx74666;PWD=0L7nXAM2OKo5TGZs;SECURITY=ssl'"
      ],
      "text/plain": [
       "[1] \"DRIVER={IBM DB2 ODBC Driver};DATABASE=bludb;HOSTNAME=55fbc997-9266-4331-afd3-888b05e734c0.bs2io90l08kqb1od8lcg.databases.appdomain.cloud;PORT=31929;PROTOCOL=TCPIP;UID=gmx74666;PWD=0L7nXAM2OKo5TGZs;SECURITY=ssl\""
      ]
     },
     "metadata": {},
     "output_type": "display_data"
    },
    {
     "data": {
      "text/html": [
       "<style>\n",
       ".dl-inline {width: auto; margin:0; padding: 0}\n",
       ".dl-inline>dt, .dl-inline>dd {float: none; width: auto; display: inline-block}\n",
       ".dl-inline>dt::after {content: \":\\0020\"; padding-right: .5ex}\n",
       ".dl-inline>dt:not(:first-of-type) {padding-left: .5ex}\n",
       "</style><dl class=dl-inline><dt>DBMS_Name</dt><dd>'DB2/LINUXX8664'</dd><dt>DBMS_Ver</dt><dd>'11.05.0600'</dd><dt>Driver_ODBC_Ver</dt><dd>'03.51'</dd><dt>Data_Source_Name</dt><dd>''</dd><dt>Driver_Name</dt><dd>'libdb2.a'</dd><dt>Driver_Ver</dt><dd>'11.05.0600'</dd><dt>ODBC_Ver</dt><dd>'03.52'</dd><dt>Server_Name</dt><dd>'DB2'</dd></dl>\n"
      ],
      "text/latex": [
       "\\begin{description*}\n",
       "\\item[DBMS\\textbackslash{}\\_Name] 'DB2/LINUXX8664'\n",
       "\\item[DBMS\\textbackslash{}\\_Ver] '11.05.0600'\n",
       "\\item[Driver\\textbackslash{}\\_ODBC\\textbackslash{}\\_Ver] '03.51'\n",
       "\\item[Data\\textbackslash{}\\_Source\\textbackslash{}\\_Name] ''\n",
       "\\item[Driver\\textbackslash{}\\_Name] 'libdb2.a'\n",
       "\\item[Driver\\textbackslash{}\\_Ver] '11.05.0600'\n",
       "\\item[ODBC\\textbackslash{}\\_Ver] '03.52'\n",
       "\\item[Server\\textbackslash{}\\_Name] 'DB2'\n",
       "\\end{description*}\n"
      ],
      "text/markdown": [
       "DBMS_Name\n",
       ":   'DB2/LINUXX8664'DBMS_Ver\n",
       ":   '11.05.0600'Driver_ODBC_Ver\n",
       ":   '03.51'Data_Source_Name\n",
       ":   ''Driver_Name\n",
       ":   'libdb2.a'Driver_Ver\n",
       ":   '11.05.0600'ODBC_Ver\n",
       ":   '03.52'Server_Name\n",
       ":   'DB2'\n",
       "\n"
      ],
      "text/plain": [
       "       DBMS_Name         DBMS_Ver  Driver_ODBC_Ver Data_Source_Name \n",
       "\"DB2/LINUXX8664\"     \"11.05.0600\"          \"03.51\"               \"\" \n",
       "     Driver_Name       Driver_Ver         ODBC_Ver      Server_Name \n",
       "      \"libdb2.a\"     \"11.05.0600\"          \"03.52\"            \"DB2\" "
      ]
     },
     "metadata": {},
     "output_type": "display_data"
    }
   ],
   "source": [
    "# Establish database connection\n",
    "\n",
    "dsn_driver <- \"{IBM DB2 ODBC Driver}\"\n",
    "dsn_database <- \"bludb\"            \n",
    "dsn_hostname <- \"55fbc997-9266-4331-afd3-888b05e734c0.bs2io90l08kqb1od8lcg.databases.appdomain.cloud\"  \n",
    "dsn_port <- \"31929\"               \n",
    "dsn_protocol <- \"TCPIP\"           \n",
    "dsn_uid <- \"gmx74666\"        \n",
    "dsn_pwd <- \"0L7nXAM2OKo5TGZs\"\n",
    "dsn_security <- \"ssl\"\n",
    "\n",
    "#connecting to IBM DB2 database\n",
    "conn_path <- paste(\"DRIVER=\",dsn_driver,\n",
    "                  \";DATABASE=\",dsn_database,\n",
    "                  \";HOSTNAME=\",dsn_hostname,\n",
    "                  \";PORT=\",dsn_port,\n",
    "                  \";PROTOCOL=\",dsn_protocol,\n",
    "                  \";UID=\",dsn_uid,\n",
    "                  \";PWD=\",dsn_pwd,\n",
    "                  \";SECURITY=\",dsn_security,        \n",
    "                    sep=\"\")\n",
    "conn_path\n",
    "conn <- odbcDriverConnect(conn_path)\n",
    "\n",
    "sql.info <- sqlTypeInfo(conn)\n",
    "conn.info <- odbcGetInfo(conn)\n",
    "conn.info"
   ]
  },
  {
   "cell_type": "code",
   "execution_count": 3,
   "metadata": {},
   "outputs": [],
   "source": [
    "# CROP_DATA:\n",
    "qCrop <- \"CREATE TABLE CROP_DATA (\n",
    "         CROP_DATE DATE NOT NULL,\n",
    "         CROP_TYPE CHAR(20) NOT NULL,\n",
    "         GEO CHAR(20) NOT NULL,\n",
    "         SEEDED_AREA INT NOT NULL,\n",
    "         HARVESTED_AREA INT NOT NULL,\n",
    "         PRODUCTION INT NOT NULL,\n",
    "         AVG_YIELD INT NOT NULL)\"\n",
    "CROP_DATA <- sqlQuery(conn, qCrop, errors=FALSE)"
   ]
  },
  {
   "cell_type": "code",
   "execution_count": 4,
   "metadata": {},
   "outputs": [],
   "source": [
    "# FARM_PRICES:\n",
    "qPrice <- \"CREATE TABLE FARM_PRICES (\n",
    "          PRICE_DATE DATE NOT NULL,\n",
    "          CROP_TYPE CHAR(20) NOT NULL,\n",
    "          GEO CHAR(20) NOT NULL,\n",
    "          PRICE_PER_MT FLOAT NOT NULL)\"\n",
    "FARM_PRICES <- sqlQuery(conn, qPrice, errors=FALSE)"
   ]
  },
  {
   "cell_type": "code",
   "execution_count": 5,
   "metadata": {},
   "outputs": [],
   "source": [
    "# DAILY_FX:\n",
    "qDailyFX <-  \"CREATE TABLE DAILY_FX (\n",
    "             FX_DATE DATE NOT NULL,\n",
    "             FXUSDCAD FLOAT NOT NULL)\"\n",
    "DAILY_FX <- sqlQuery(conn, qDailyFX, errors=FALSE)"
   ]
  },
  {
   "cell_type": "code",
   "execution_count": 6,
   "metadata": {},
   "outputs": [],
   "source": [
    "# MONTHLY_FX:\n",
    "qMonthlyFX <-  \"CREATE TABLE MONTHLY_FX (\n",
    "               FX_DATE DATE NOT NULL,\n",
    "               FXUSDCAD FLOAT NOT NULL)\"\n",
    "MONTHLY_FX <- sqlQuery(conn, qMonthlyFX, errors=FALSE)"
   ]
  },
  {
   "cell_type": "code",
   "execution_count": 7,
   "metadata": {},
   "outputs": [
    {
     "data": {
      "text/html": [
       "27"
      ],
      "text/latex": [
       "27"
      ],
      "text/markdown": [
       "27"
      ],
      "text/plain": [
       "[1] 27"
      ]
     },
     "metadata": {},
     "output_type": "display_data"
    },
    {
     "data": {
      "text/html": [
       "<style>\n",
       ".list-inline {list-style: none; margin:0; padding: 0}\n",
       ".list-inline>li {display: inline-block}\n",
       ".list-inline>li:not(:last-child)::after {content: \"\\00b7\"; padding: 0 .5ex}\n",
       "</style>\n",
       "<ol class=list-inline><li>'BANKACCOUNTS'</li><li>'BIKE_SHARING_SYSTEMS'</li><li>'BOARD'</li><li>'CENSUS_DATA'</li><li>'CHICAGO_CRIME_DATA'</li><li>'CHICAGO_PUBLIC_SCHOOLS'</li><li>'CHICAGO_SOCIOECONOMIC_DATA'</li><li>'CITIES_WEATHER_FORECAST'</li><li>'CROP_DATA'</li><li>'DAILY_FX'</li><li>'DEPARTMENTS'</li><li>'EMPLOYEES'</li><li>'FARM_PRICES'</li><li>'INSTRUCTOR'</li><li>'INTERNATIONAL_STUDENT_TEST_SCORES'</li><li>'JOBS'</li><li>'JOB_HISTORY'</li><li>'LOCATIONS'</li><li>'MONTHLY_FX'</li><li>'PETRESCUE'</li><li>'PETSALE'</li><li>'SCHOOL'</li><li>'SCHOOLS'</li><li>'SEOUL_BIKE_SHARING'</li><li>'SHOESHOP'</li><li>'WORLD_CITIES'</li><li>'CHICAGO_SCH_COL_RENAME'</li></ol>\n"
      ],
      "text/latex": [
       "\\begin{enumerate*}\n",
       "\\item 'BANKACCOUNTS'\n",
       "\\item 'BIKE\\_SHARING\\_SYSTEMS'\n",
       "\\item 'BOARD'\n",
       "\\item 'CENSUS\\_DATA'\n",
       "\\item 'CHICAGO\\_CRIME\\_DATA'\n",
       "\\item 'CHICAGO\\_PUBLIC\\_SCHOOLS'\n",
       "\\item 'CHICAGO\\_SOCIOECONOMIC\\_DATA'\n",
       "\\item 'CITIES\\_WEATHER\\_FORECAST'\n",
       "\\item 'CROP\\_DATA'\n",
       "\\item 'DAILY\\_FX'\n",
       "\\item 'DEPARTMENTS'\n",
       "\\item 'EMPLOYEES'\n",
       "\\item 'FARM\\_PRICES'\n",
       "\\item 'INSTRUCTOR'\n",
       "\\item 'INTERNATIONAL\\_STUDENT\\_TEST\\_SCORES'\n",
       "\\item 'JOBS'\n",
       "\\item 'JOB\\_HISTORY'\n",
       "\\item 'LOCATIONS'\n",
       "\\item 'MONTHLY\\_FX'\n",
       "\\item 'PETRESCUE'\n",
       "\\item 'PETSALE'\n",
       "\\item 'SCHOOL'\n",
       "\\item 'SCHOOLS'\n",
       "\\item 'SEOUL\\_BIKE\\_SHARING'\n",
       "\\item 'SHOESHOP'\n",
       "\\item 'WORLD\\_CITIES'\n",
       "\\item 'CHICAGO\\_SCH\\_COL\\_RENAME'\n",
       "\\end{enumerate*}\n"
      ],
      "text/markdown": [
       "1. 'BANKACCOUNTS'\n",
       "2. 'BIKE_SHARING_SYSTEMS'\n",
       "3. 'BOARD'\n",
       "4. 'CENSUS_DATA'\n",
       "5. 'CHICAGO_CRIME_DATA'\n",
       "6. 'CHICAGO_PUBLIC_SCHOOLS'\n",
       "7. 'CHICAGO_SOCIOECONOMIC_DATA'\n",
       "8. 'CITIES_WEATHER_FORECAST'\n",
       "9. 'CROP_DATA'\n",
       "10. 'DAILY_FX'\n",
       "11. 'DEPARTMENTS'\n",
       "12. 'EMPLOYEES'\n",
       "13. 'FARM_PRICES'\n",
       "14. 'INSTRUCTOR'\n",
       "15. 'INTERNATIONAL_STUDENT_TEST_SCORES'\n",
       "16. 'JOBS'\n",
       "17. 'JOB_HISTORY'\n",
       "18. 'LOCATIONS'\n",
       "19. 'MONTHLY_FX'\n",
       "20. 'PETRESCUE'\n",
       "21. 'PETSALE'\n",
       "22. 'SCHOOL'\n",
       "23. 'SCHOOLS'\n",
       "24. 'SEOUL_BIKE_SHARING'\n",
       "25. 'SHOESHOP'\n",
       "26. 'WORLD_CITIES'\n",
       "27. 'CHICAGO_SCH_COL_RENAME'\n",
       "\n",
       "\n"
      ],
      "text/plain": [
       " [1] \"BANKACCOUNTS\"                      \"BIKE_SHARING_SYSTEMS\"             \n",
       " [3] \"BOARD\"                             \"CENSUS_DATA\"                      \n",
       " [5] \"CHICAGO_CRIME_DATA\"                \"CHICAGO_PUBLIC_SCHOOLS\"           \n",
       " [7] \"CHICAGO_SOCIOECONOMIC_DATA\"        \"CITIES_WEATHER_FORECAST\"          \n",
       " [9] \"CROP_DATA\"                         \"DAILY_FX\"                         \n",
       "[11] \"DEPARTMENTS\"                       \"EMPLOYEES\"                        \n",
       "[13] \"FARM_PRICES\"                       \"INSTRUCTOR\"                       \n",
       "[15] \"INTERNATIONAL_STUDENT_TEST_SCORES\" \"JOBS\"                             \n",
       "[17] \"JOB_HISTORY\"                       \"LOCATIONS\"                        \n",
       "[19] \"MONTHLY_FX\"                        \"PETRESCUE\"                        \n",
       "[21] \"PETSALE\"                           \"SCHOOL\"                           \n",
       "[23] \"SCHOOLS\"                           \"SEOUL_BIKE_SHARING\"               \n",
       "[25] \"SHOESHOP\"                          \"WORLD_CITIES\"                     \n",
       "[27] \"CHICAGO_SCH_COL_RENAME\"           "
      ]
     },
     "metadata": {},
     "output_type": "display_data"
    },
    {
     "data": {
      "text/html": [
       "<table>\n",
       "<caption>A data.frame: 27 × 5</caption>\n",
       "<thead>\n",
       "\t<tr><th></th><th scope=col>TABLE_CAT</th><th scope=col>TABLE_SCHEM</th><th scope=col>TABLE_NAME</th><th scope=col>TABLE_TYPE</th><th scope=col>REMARKS</th></tr>\n",
       "\t<tr><th></th><th scope=col>&lt;chr&gt;</th><th scope=col>&lt;chr&gt;</th><th scope=col>&lt;chr&gt;</th><th scope=col>&lt;chr&gt;</th><th scope=col>&lt;chr&gt;</th></tr>\n",
       "</thead>\n",
       "<tbody>\n",
       "\t<tr><th scope=row>1</th><td></td><td>GMX74666</td><td>BANKACCOUNTS                     </td><td>TABLE</td><td></td></tr>\n",
       "\t<tr><th scope=row>2</th><td></td><td>GMX74666</td><td>BIKE_SHARING_SYSTEMS             </td><td>TABLE</td><td></td></tr>\n",
       "\t<tr><th scope=row>3</th><td></td><td>GMX74666</td><td>BOARD                            </td><td>TABLE</td><td></td></tr>\n",
       "\t<tr><th scope=row>4</th><td></td><td>GMX74666</td><td>CENSUS_DATA                      </td><td>TABLE</td><td></td></tr>\n",
       "\t<tr><th scope=row>5</th><td></td><td>GMX74666</td><td>CHICAGO_CRIME_DATA               </td><td>TABLE</td><td></td></tr>\n",
       "\t<tr><th scope=row>6</th><td></td><td>GMX74666</td><td>CHICAGO_PUBLIC_SCHOOLS           </td><td>TABLE</td><td></td></tr>\n",
       "\t<tr><th scope=row>7</th><td></td><td>GMX74666</td><td>CHICAGO_SOCIOECONOMIC_DATA       </td><td>TABLE</td><td></td></tr>\n",
       "\t<tr><th scope=row>8</th><td></td><td>GMX74666</td><td>CITIES_WEATHER_FORECAST          </td><td>TABLE</td><td></td></tr>\n",
       "\t<tr><th scope=row>9</th><td></td><td>GMX74666</td><td>CROP_DATA                        </td><td>TABLE</td><td></td></tr>\n",
       "\t<tr><th scope=row>10</th><td></td><td>GMX74666</td><td>DAILY_FX                         </td><td>TABLE</td><td></td></tr>\n",
       "\t<tr><th scope=row>11</th><td></td><td>GMX74666</td><td>DEPARTMENTS                      </td><td>TABLE</td><td></td></tr>\n",
       "\t<tr><th scope=row>12</th><td></td><td>GMX74666</td><td>EMPLOYEES                        </td><td>TABLE</td><td></td></tr>\n",
       "\t<tr><th scope=row>13</th><td></td><td>GMX74666</td><td>FARM_PRICES                      </td><td>TABLE</td><td></td></tr>\n",
       "\t<tr><th scope=row>14</th><td></td><td>GMX74666</td><td>INSTRUCTOR                       </td><td>TABLE</td><td></td></tr>\n",
       "\t<tr><th scope=row>15</th><td></td><td>GMX74666</td><td>INTERNATIONAL_STUDENT_TEST_SCORES</td><td>TABLE</td><td></td></tr>\n",
       "\t<tr><th scope=row>16</th><td></td><td>GMX74666</td><td>JOBS                             </td><td>TABLE</td><td></td></tr>\n",
       "\t<tr><th scope=row>17</th><td></td><td>GMX74666</td><td>JOB_HISTORY                      </td><td>TABLE</td><td></td></tr>\n",
       "\t<tr><th scope=row>18</th><td></td><td>GMX74666</td><td>LOCATIONS                        </td><td>TABLE</td><td></td></tr>\n",
       "\t<tr><th scope=row>19</th><td></td><td>GMX74666</td><td>MONTHLY_FX                       </td><td>TABLE</td><td></td></tr>\n",
       "\t<tr><th scope=row>20</th><td></td><td>GMX74666</td><td>PETRESCUE                        </td><td>TABLE</td><td></td></tr>\n",
       "\t<tr><th scope=row>21</th><td></td><td>GMX74666</td><td>PETSALE                          </td><td>TABLE</td><td></td></tr>\n",
       "\t<tr><th scope=row>22</th><td></td><td>GMX74666</td><td>SCHOOL                           </td><td>TABLE</td><td></td></tr>\n",
       "\t<tr><th scope=row>23</th><td></td><td>GMX74666</td><td>SCHOOLS                          </td><td>TABLE</td><td></td></tr>\n",
       "\t<tr><th scope=row>24</th><td></td><td>GMX74666</td><td>SEOUL_BIKE_SHARING               </td><td>TABLE</td><td></td></tr>\n",
       "\t<tr><th scope=row>25</th><td></td><td>GMX74666</td><td>SHOESHOP                         </td><td>TABLE</td><td></td></tr>\n",
       "\t<tr><th scope=row>26</th><td></td><td>GMX74666</td><td>WORLD_CITIES                     </td><td>TABLE</td><td></td></tr>\n",
       "\t<tr><th scope=row>27</th><td></td><td>GMX74666</td><td>CHICAGO_SCH_COL_RENAME           </td><td>VIEW </td><td></td></tr>\n",
       "</tbody>\n",
       "</table>\n"
      ],
      "text/latex": [
       "A data.frame: 27 × 5\n",
       "\\begin{tabular}{r|lllll}\n",
       "  & TABLE\\_CAT & TABLE\\_SCHEM & TABLE\\_NAME & TABLE\\_TYPE & REMARKS\\\\\n",
       "  & <chr> & <chr> & <chr> & <chr> & <chr>\\\\\n",
       "\\hline\n",
       "\t1 &  & GMX74666 & BANKACCOUNTS                      & TABLE & \\\\\n",
       "\t2 &  & GMX74666 & BIKE\\_SHARING\\_SYSTEMS              & TABLE & \\\\\n",
       "\t3 &  & GMX74666 & BOARD                             & TABLE & \\\\\n",
       "\t4 &  & GMX74666 & CENSUS\\_DATA                       & TABLE & \\\\\n",
       "\t5 &  & GMX74666 & CHICAGO\\_CRIME\\_DATA                & TABLE & \\\\\n",
       "\t6 &  & GMX74666 & CHICAGO\\_PUBLIC\\_SCHOOLS            & TABLE & \\\\\n",
       "\t7 &  & GMX74666 & CHICAGO\\_SOCIOECONOMIC\\_DATA        & TABLE & \\\\\n",
       "\t8 &  & GMX74666 & CITIES\\_WEATHER\\_FORECAST           & TABLE & \\\\\n",
       "\t9 &  & GMX74666 & CROP\\_DATA                         & TABLE & \\\\\n",
       "\t10 &  & GMX74666 & DAILY\\_FX                          & TABLE & \\\\\n",
       "\t11 &  & GMX74666 & DEPARTMENTS                       & TABLE & \\\\\n",
       "\t12 &  & GMX74666 & EMPLOYEES                         & TABLE & \\\\\n",
       "\t13 &  & GMX74666 & FARM\\_PRICES                       & TABLE & \\\\\n",
       "\t14 &  & GMX74666 & INSTRUCTOR                        & TABLE & \\\\\n",
       "\t15 &  & GMX74666 & INTERNATIONAL\\_STUDENT\\_TEST\\_SCORES & TABLE & \\\\\n",
       "\t16 &  & GMX74666 & JOBS                              & TABLE & \\\\\n",
       "\t17 &  & GMX74666 & JOB\\_HISTORY                       & TABLE & \\\\\n",
       "\t18 &  & GMX74666 & LOCATIONS                         & TABLE & \\\\\n",
       "\t19 &  & GMX74666 & MONTHLY\\_FX                        & TABLE & \\\\\n",
       "\t20 &  & GMX74666 & PETRESCUE                         & TABLE & \\\\\n",
       "\t21 &  & GMX74666 & PETSALE                           & TABLE & \\\\\n",
       "\t22 &  & GMX74666 & SCHOOL                            & TABLE & \\\\\n",
       "\t23 &  & GMX74666 & SCHOOLS                           & TABLE & \\\\\n",
       "\t24 &  & GMX74666 & SEOUL\\_BIKE\\_SHARING                & TABLE & \\\\\n",
       "\t25 &  & GMX74666 & SHOESHOP                          & TABLE & \\\\\n",
       "\t26 &  & GMX74666 & WORLD\\_CITIES                      & TABLE & \\\\\n",
       "\t27 &  & GMX74666 & CHICAGO\\_SCH\\_COL\\_RENAME            & VIEW  & \\\\\n",
       "\\end{tabular}\n"
      ],
      "text/markdown": [
       "\n",
       "A data.frame: 27 × 5\n",
       "\n",
       "| <!--/--> | TABLE_CAT &lt;chr&gt; | TABLE_SCHEM &lt;chr&gt; | TABLE_NAME &lt;chr&gt; | TABLE_TYPE &lt;chr&gt; | REMARKS &lt;chr&gt; |\n",
       "|---|---|---|---|---|---|\n",
       "| 1 | <!----> | GMX74666 | BANKACCOUNTS                      | TABLE | <!----> |\n",
       "| 2 | <!----> | GMX74666 | BIKE_SHARING_SYSTEMS              | TABLE | <!----> |\n",
       "| 3 | <!----> | GMX74666 | BOARD                             | TABLE | <!----> |\n",
       "| 4 | <!----> | GMX74666 | CENSUS_DATA                       | TABLE | <!----> |\n",
       "| 5 | <!----> | GMX74666 | CHICAGO_CRIME_DATA                | TABLE | <!----> |\n",
       "| 6 | <!----> | GMX74666 | CHICAGO_PUBLIC_SCHOOLS            | TABLE | <!----> |\n",
       "| 7 | <!----> | GMX74666 | CHICAGO_SOCIOECONOMIC_DATA        | TABLE | <!----> |\n",
       "| 8 | <!----> | GMX74666 | CITIES_WEATHER_FORECAST           | TABLE | <!----> |\n",
       "| 9 | <!----> | GMX74666 | CROP_DATA                         | TABLE | <!----> |\n",
       "| 10 | <!----> | GMX74666 | DAILY_FX                          | TABLE | <!----> |\n",
       "| 11 | <!----> | GMX74666 | DEPARTMENTS                       | TABLE | <!----> |\n",
       "| 12 | <!----> | GMX74666 | EMPLOYEES                         | TABLE | <!----> |\n",
       "| 13 | <!----> | GMX74666 | FARM_PRICES                       | TABLE | <!----> |\n",
       "| 14 | <!----> | GMX74666 | INSTRUCTOR                        | TABLE | <!----> |\n",
       "| 15 | <!----> | GMX74666 | INTERNATIONAL_STUDENT_TEST_SCORES | TABLE | <!----> |\n",
       "| 16 | <!----> | GMX74666 | JOBS                              | TABLE | <!----> |\n",
       "| 17 | <!----> | GMX74666 | JOB_HISTORY                       | TABLE | <!----> |\n",
       "| 18 | <!----> | GMX74666 | LOCATIONS                         | TABLE | <!----> |\n",
       "| 19 | <!----> | GMX74666 | MONTHLY_FX                        | TABLE | <!----> |\n",
       "| 20 | <!----> | GMX74666 | PETRESCUE                         | TABLE | <!----> |\n",
       "| 21 | <!----> | GMX74666 | PETSALE                           | TABLE | <!----> |\n",
       "| 22 | <!----> | GMX74666 | SCHOOL                            | TABLE | <!----> |\n",
       "| 23 | <!----> | GMX74666 | SCHOOLS                           | TABLE | <!----> |\n",
       "| 24 | <!----> | GMX74666 | SEOUL_BIKE_SHARING                | TABLE | <!----> |\n",
       "| 25 | <!----> | GMX74666 | SHOESHOP                          | TABLE | <!----> |\n",
       "| 26 | <!----> | GMX74666 | WORLD_CITIES                      | TABLE | <!----> |\n",
       "| 27 | <!----> | GMX74666 | CHICAGO_SCH_COL_RENAME            | VIEW  | <!----> |\n",
       "\n"
      ],
      "text/plain": [
       "   TABLE_CAT TABLE_SCHEM TABLE_NAME                        TABLE_TYPE REMARKS\n",
       "1            GMX74666    BANKACCOUNTS                      TABLE             \n",
       "2            GMX74666    BIKE_SHARING_SYSTEMS              TABLE             \n",
       "3            GMX74666    BOARD                             TABLE             \n",
       "4            GMX74666    CENSUS_DATA                       TABLE             \n",
       "5            GMX74666    CHICAGO_CRIME_DATA                TABLE             \n",
       "6            GMX74666    CHICAGO_PUBLIC_SCHOOLS            TABLE             \n",
       "7            GMX74666    CHICAGO_SOCIOECONOMIC_DATA        TABLE             \n",
       "8            GMX74666    CITIES_WEATHER_FORECAST           TABLE             \n",
       "9            GMX74666    CROP_DATA                         TABLE             \n",
       "10           GMX74666    DAILY_FX                          TABLE             \n",
       "11           GMX74666    DEPARTMENTS                       TABLE             \n",
       "12           GMX74666    EMPLOYEES                         TABLE             \n",
       "13           GMX74666    FARM_PRICES                       TABLE             \n",
       "14           GMX74666    INSTRUCTOR                        TABLE             \n",
       "15           GMX74666    INTERNATIONAL_STUDENT_TEST_SCORES TABLE             \n",
       "16           GMX74666    JOBS                              TABLE             \n",
       "17           GMX74666    JOB_HISTORY                       TABLE             \n",
       "18           GMX74666    LOCATIONS                         TABLE             \n",
       "19           GMX74666    MONTHLY_FX                        TABLE             \n",
       "20           GMX74666    PETRESCUE                         TABLE             \n",
       "21           GMX74666    PETSALE                           TABLE             \n",
       "22           GMX74666    SCHOOL                            TABLE             \n",
       "23           GMX74666    SCHOOLS                           TABLE             \n",
       "24           GMX74666    SEOUL_BIKE_SHARING                TABLE             \n",
       "25           GMX74666    SHOESHOP                          TABLE             \n",
       "26           GMX74666    WORLD_CITIES                      TABLE             \n",
       "27           GMX74666    CHICAGO_SCH_COL_RENAME            VIEW              "
      ]
     },
     "metadata": {},
     "output_type": "display_data"
    }
   ],
   "source": [
    "tab.frame <- sqlTables(conn, schema=\"GMX74666\")\n",
    "nrow(tab.frame)\n",
    "tab.frame$TABLE_NAME\n",
    "tab.frame"
   ]
  },
  {
   "cell_type": "markdown",
   "metadata": {},
   "source": [
    "## Problem 2\n",
    "\n",
    "#### Read Datasets and Load Tables\n",
    "\n",
    "Read the datasets into R dataframes using the urls provided above. Then load your tables.\n"
   ]
  },
  {
   "cell_type": "markdown",
   "metadata": {},
   "source": [
    "### Solution 2\n"
   ]
  },
  {
   "cell_type": "code",
   "execution_count": 8,
   "metadata": {},
   "outputs": [],
   "source": [
    "crop_URL <- \"https://cf-courses-data.s3.us.cloud-object-storage.appdomain.cloud/IBM-RP0203EN-SkillsNetwork/labs/Final%20Project/Annual_Crop_Data.csv\"\n",
    "crop_df<- read.csv(crop_URL, header=TRUE, sep=\",\")\n",
    "#redundant index column removed:\n",
    "crop_df$index <- NULL\n",
    "#head(crop_df)\n",
    "sqlSave(conn, crop_df, \"CROP_DATA\", append=TRUE, fast=FALSE, rownames=FALSE, colnames=FALSE, verbose=FALSE )\n"
   ]
  },
  {
   "cell_type": "code",
   "execution_count": 22,
   "metadata": {},
   "outputs": [],
   "source": [
    "#I dropped all tables because data was appended to already existing tables\n",
    "#sqlDrop(conn, \"GMX74666.MONTHLY_FX\")"
   ]
  },
  {
   "cell_type": "code",
   "execution_count": 9,
   "metadata": {},
   "outputs": [],
   "source": [
    "price_URL <- \"https://cf-courses-data.s3.us.cloud-object-storage.appdomain.cloud/IBM-RP0203EN-SkillsNetwork/labs/Final%20Project/Monthly_Farm_Prices.csv\"\n",
    "farmprice_df <- read.csv(price_URL, header=TRUE, sep=\",\")\n",
    "#redundant 'index'column removed\n",
    "farmprice_df$index <- NULL\n",
    "#farmprice_df\n",
    "sqlSave(conn, farmprice_df, \"FARM_PRICES\", append=TRUE, fast=FALSE, rownames=FALSE, colnames=FALSE, verbose=FALSE )"
   ]
  },
  {
   "cell_type": "code",
   "execution_count": 10,
   "metadata": {},
   "outputs": [],
   "source": [
    "DayfxURL <- \"https://cf-courses-data.s3.us.cloud-object-storage.appdomain.cloud/IBM-RP0203EN-SkillsNetwork/labs/Final%20Project/Daily_FX.csv\"\n",
    "dailyFx_df <- read.csv(DayfxURL,  header=TRUE, sep=\",\")\n",
    "#redundant 'index'column removed\n",
    "dailyFx_df$index <- NULL\n",
    "#dailyFx_df\n",
    "sqlSave(conn, dailyFx_df, \"DAILY_FX\", append=TRUE, fast=FALSE, rownames=FALSE, colnames=FALSE, verbose=FALSE )"
   ]
  },
  {
   "cell_type": "code",
   "execution_count": 11,
   "metadata": {},
   "outputs": [],
   "source": [
    "monthFxURL <- \"https://cf-courses-data.s3.us.cloud-object-storage.appdomain.cloud/IBM-RP0203EN-SkillsNetwork/labs/Final%20Project/Monthly_FX.csv\"\n",
    "monthlyFx_df <- read.csv(monthFxURL, header=TRUE, sep=\",\")\n",
    "#redundant 'index'column removed\n",
    "monthlyFx_df$index <- NULL\n",
    "#monthlyFx_df\n",
    "sqlSave(conn, monthlyFx_df, \"MONTHLY_FX\", append=TRUE, fast=FALSE, rownames=FALSE, colnames=FALSE, verbose=FALSE )"
   ]
  },
  {
   "cell_type": "markdown",
   "metadata": {},
   "source": [
    "## Now execute SQL queries using the RODBC R package to solve the assignment problems.\n",
    "\n",
    "## Problem 3\n",
    "\n",
    "#### How many records are in the farm prices dataset?\n"
   ]
  },
  {
   "cell_type": "markdown",
   "metadata": {},
   "source": [
    "### Solution 3\n"
   ]
  },
  {
   "cell_type": "code",
   "execution_count": 15,
   "metadata": {},
   "outputs": [
    {
     "data": {
      "text/html": [
       "<table>\n",
       "<caption>A data.frame: 6 × 7</caption>\n",
       "<thead>\n",
       "\t<tr><th></th><th scope=col>YEAR</th><th scope=col>cropType</th><th scope=col>GEO</th><th scope=col>seededArea</th><th scope=col>harvestedArea</th><th scope=col>production</th><th scope=col>avgYield</th></tr>\n",
       "\t<tr><th></th><th scope=col>&lt;fct&gt;</th><th scope=col>&lt;fct&gt;</th><th scope=col>&lt;fct&gt;</th><th scope=col>&lt;int&gt;</th><th scope=col>&lt;int&gt;</th><th scope=col>&lt;int&gt;</th><th scope=col>&lt;int&gt;</th></tr>\n",
       "</thead>\n",
       "<tbody>\n",
       "\t<tr><th scope=row>1</th><td>1965-12-31</td><td>Barley</td><td>Alberta     </td><td>1372000</td><td>1372000</td><td>2504000</td><td>1825</td></tr>\n",
       "\t<tr><th scope=row>2</th><td>1965-12-31</td><td>Barley</td><td>Canada      </td><td>2476800</td><td>2476800</td><td>4752900</td><td>1920</td></tr>\n",
       "\t<tr><th scope=row>3</th><td>1965-12-31</td><td>Barley</td><td>Saskatchewan</td><td> 708000</td><td> 708000</td><td>1415000</td><td>2000</td></tr>\n",
       "\t<tr><th scope=row>4</th><td>1965-12-31</td><td>Canola</td><td>Alberta     </td><td> 297400</td><td> 297400</td><td> 215500</td><td> 725</td></tr>\n",
       "\t<tr><th scope=row>5</th><td>1965-12-31</td><td>Canola</td><td>Canada      </td><td> 580700</td><td> 580700</td><td> 512600</td><td> 885</td></tr>\n",
       "\t<tr><th scope=row>6</th><td>1965-12-31</td><td>Canola</td><td>Saskatchewan</td><td> 224600</td><td> 224600</td><td> 242700</td><td>1080</td></tr>\n",
       "</tbody>\n",
       "</table>\n"
      ],
      "text/latex": [
       "A data.frame: 6 × 7\n",
       "\\begin{tabular}{r|lllllll}\n",
       "  & YEAR & cropType & GEO & seededArea & harvestedArea & production & avgYield\\\\\n",
       "  & <fct> & <fct> & <fct> & <int> & <int> & <int> & <int>\\\\\n",
       "\\hline\n",
       "\t1 & 1965-12-31 & Barley & Alberta      & 1372000 & 1372000 & 2504000 & 1825\\\\\n",
       "\t2 & 1965-12-31 & Barley & Canada       & 2476800 & 2476800 & 4752900 & 1920\\\\\n",
       "\t3 & 1965-12-31 & Barley & Saskatchewan &  708000 &  708000 & 1415000 & 2000\\\\\n",
       "\t4 & 1965-12-31 & Canola & Alberta      &  297400 &  297400 &  215500 &  725\\\\\n",
       "\t5 & 1965-12-31 & Canola & Canada       &  580700 &  580700 &  512600 &  885\\\\\n",
       "\t6 & 1965-12-31 & Canola & Saskatchewan &  224600 &  224600 &  242700 & 1080\\\\\n",
       "\\end{tabular}\n"
      ],
      "text/markdown": [
       "\n",
       "A data.frame: 6 × 7\n",
       "\n",
       "| <!--/--> | YEAR &lt;fct&gt; | cropType &lt;fct&gt; | GEO &lt;fct&gt; | seededArea &lt;int&gt; | harvestedArea &lt;int&gt; | production &lt;int&gt; | avgYield &lt;int&gt; |\n",
       "|---|---|---|---|---|---|---|---|\n",
       "| 1 | 1965-12-31 | Barley | Alberta      | 1372000 | 1372000 | 2504000 | 1825 |\n",
       "| 2 | 1965-12-31 | Barley | Canada       | 2476800 | 2476800 | 4752900 | 1920 |\n",
       "| 3 | 1965-12-31 | Barley | Saskatchewan |  708000 |  708000 | 1415000 | 2000 |\n",
       "| 4 | 1965-12-31 | Canola | Alberta      |  297400 |  297400 |  215500 |  725 |\n",
       "| 5 | 1965-12-31 | Canola | Canada       |  580700 |  580700 |  512600 |  885 |\n",
       "| 6 | 1965-12-31 | Canola | Saskatchewan |  224600 |  224600 |  242700 | 1080 |\n",
       "\n"
      ],
      "text/plain": [
       "  YEAR       cropType GEO          seededArea harvestedArea production avgYield\n",
       "1 1965-12-31 Barley   Alberta      1372000    1372000       2504000    1825    \n",
       "2 1965-12-31 Barley   Canada       2476800    2476800       4752900    1920    \n",
       "3 1965-12-31 Barley   Saskatchewan  708000     708000       1415000    2000    \n",
       "4 1965-12-31 Canola   Alberta       297400     297400        215500     725    \n",
       "5 1965-12-31 Canola   Canada        580700     580700        512600     885    \n",
       "6 1965-12-31 Canola   Saskatchewan  224600     224600        242700    1080    "
      ]
     },
     "metadata": {},
     "output_type": "display_data"
    }
   ],
   "source": [
    "head(crop_df)"
   ]
  },
  {
   "cell_type": "code",
   "execution_count": 12,
   "metadata": {},
   "outputs": [
    {
     "data": {
      "text/html": [
       "<table>\n",
       "<caption>A data.frame: 1 × 1</caption>\n",
       "<thead>\n",
       "\t<tr><th></th><th scope=col>FARMPRICESCOUNT</th></tr>\n",
       "\t<tr><th></th><th scope=col>&lt;int&gt;</th></tr>\n",
       "</thead>\n",
       "<tbody>\n",
       "\t<tr><th scope=row>1</th><td>2678</td></tr>\n",
       "</tbody>\n",
       "</table>\n"
      ],
      "text/latex": [
       "A data.frame: 1 × 1\n",
       "\\begin{tabular}{r|l}\n",
       "  & FARMPRICESCOUNT\\\\\n",
       "  & <int>\\\\\n",
       "\\hline\n",
       "\t1 & 2678\\\\\n",
       "\\end{tabular}\n"
      ],
      "text/markdown": [
       "\n",
       "A data.frame: 1 × 1\n",
       "\n",
       "| <!--/--> | FARMPRICESCOUNT &lt;int&gt; |\n",
       "|---|---|\n",
       "| 1 | 2678 |\n",
       "\n"
      ],
      "text/plain": [
       "  FARMPRICESCOUNT\n",
       "1 2678           "
      ]
     },
     "metadata": {},
     "output_type": "display_data"
    }
   ],
   "source": [
    "query <- \"SELECT count(*) as FarmPricesCount FROM FARM_PRICES\"\n",
    "FarmPrice_rec <- sqlQuery(conn, query)\n",
    "FarmPrice_rec"
   ]
  },
  {
   "cell_type": "markdown",
   "metadata": {},
   "source": [
    "## Problem 4\n",
    "\n",
    "#### Which geographies are included in the farm prices dataset?\n"
   ]
  },
  {
   "cell_type": "markdown",
   "metadata": {},
   "source": [
    "### Solution 4\n"
   ]
  },
  {
   "cell_type": "code",
   "execution_count": 13,
   "metadata": {},
   "outputs": [
    {
     "data": {
      "text/html": [
       "<table>\n",
       "<caption>A data.frame: 2 × 1</caption>\n",
       "<thead>\n",
       "\t<tr><th></th><th scope=col>GEOGRAPHIES</th></tr>\n",
       "\t<tr><th></th><th scope=col>&lt;fct&gt;</th></tr>\n",
       "</thead>\n",
       "<tbody>\n",
       "\t<tr><th scope=row>1</th><td>Alberta             </td></tr>\n",
       "\t<tr><th scope=row>2</th><td>Saskatchewan        </td></tr>\n",
       "</tbody>\n",
       "</table>\n"
      ],
      "text/latex": [
       "A data.frame: 2 × 1\n",
       "\\begin{tabular}{r|l}\n",
       "  & GEOGRAPHIES\\\\\n",
       "  & <fct>\\\\\n",
       "\\hline\n",
       "\t1 & Alberta             \\\\\n",
       "\t2 & Saskatchewan        \\\\\n",
       "\\end{tabular}\n"
      ],
      "text/markdown": [
       "\n",
       "A data.frame: 2 × 1\n",
       "\n",
       "| <!--/--> | GEOGRAPHIES &lt;fct&gt; |\n",
       "|---|---|\n",
       "| 1 | Alberta              |\n",
       "| 2 | Saskatchewan         |\n",
       "\n"
      ],
      "text/plain": [
       "  GEOGRAPHIES         \n",
       "1 Alberta             \n",
       "2 Saskatchewan        "
      ]
     },
     "metadata": {},
     "output_type": "display_data"
    }
   ],
   "source": [
    "query <- \"SELECT DISTINCT(GEO) AS GEOGRAPHIES FROM FARM_PRICES\"\n",
    "Geographic_Loc <- sqlQuery(conn, query)\n",
    "Geographic_Loc"
   ]
  },
  {
   "cell_type": "markdown",
   "metadata": {},
   "source": [
    "## Problem 5\n",
    "\n",
    "#### How many hectares of Rye were harvested in Canada in 1968?\n"
   ]
  },
  {
   "cell_type": "markdown",
   "metadata": {},
   "source": [
    "### Solution 5\n"
   ]
  },
  {
   "cell_type": "code",
   "execution_count": 28,
   "metadata": {},
   "outputs": [
    {
     "data": {
      "text/html": [
       "<table>\n",
       "<caption>A data.frame: 1 × 1</caption>\n",
       "<thead>\n",
       "\t<tr><th></th><th scope=col>TOTAL_RYE_HEC</th></tr>\n",
       "\t<tr><th></th><th scope=col>&lt;int&gt;</th></tr>\n",
       "</thead>\n",
       "<tbody>\n",
       "\t<tr><th scope=row>1</th><td>274100</td></tr>\n",
       "</tbody>\n",
       "</table>\n"
      ],
      "text/latex": [
       "A data.frame: 1 × 1\n",
       "\\begin{tabular}{r|l}\n",
       "  & TOTAL\\_RYE\\_HEC\\\\\n",
       "  & <int>\\\\\n",
       "\\hline\n",
       "\t1 & 274100\\\\\n",
       "\\end{tabular}\n"
      ],
      "text/markdown": [
       "\n",
       "A data.frame: 1 × 1\n",
       "\n",
       "| <!--/--> | TOTAL_RYE_HEC &lt;int&gt; |\n",
       "|---|---|\n",
       "| 1 | 274100 |\n",
       "\n"
      ],
      "text/plain": [
       "  TOTAL_RYE_HEC\n",
       "1 274100       "
      ]
     },
     "metadata": {},
     "output_type": "display_data"
    }
   ],
   "source": [
    "query <- \"SELECT SUM(HARVESTED_AREA) AS Total_rye_Hec FROM CROP_DATA WHERE CROP_TYPE='Rye' AND YEAR(CROP_DATE) = 1968 AND GEO = 'Canada'\"\n",
    "total_Rye_Harvested <- sqlQuery(conn, query)\n",
    "total_Rye_Harvested"
   ]
  },
  {
   "cell_type": "markdown",
   "metadata": {},
   "source": [
    "## Problem 6\n",
    "\n",
    "#### Query and display the first 6 rows of the farm prices table for Rye.\n"
   ]
  },
  {
   "cell_type": "markdown",
   "metadata": {},
   "source": [
    "### Solution 6\n"
   ]
  },
  {
   "cell_type": "code",
   "execution_count": 29,
   "metadata": {},
   "outputs": [
    {
     "data": {
      "text/html": [
       "<table>\n",
       "<caption>A data.frame: 6 × 4</caption>\n",
       "<thead>\n",
       "\t<tr><th></th><th scope=col>PRICE_DATE</th><th scope=col>CROP_TYPE</th><th scope=col>GEO</th><th scope=col>PRICE_PER_MT</th></tr>\n",
       "\t<tr><th></th><th scope=col>&lt;date&gt;</th><th scope=col>&lt;fct&gt;</th><th scope=col>&lt;fct&gt;</th><th scope=col>&lt;dbl&gt;</th></tr>\n",
       "</thead>\n",
       "<tbody>\n",
       "\t<tr><th scope=row>1</th><td>1985-01-01</td><td>Rye                 </td><td>Alberta             </td><td>100.77</td></tr>\n",
       "\t<tr><th scope=row>2</th><td>1985-01-01</td><td>Rye                 </td><td>Saskatchewan        </td><td>109.75</td></tr>\n",
       "\t<tr><th scope=row>3</th><td>1985-02-01</td><td>Rye                 </td><td>Alberta             </td><td> 95.05</td></tr>\n",
       "\t<tr><th scope=row>4</th><td>1985-02-01</td><td>Rye                 </td><td>Saskatchewan        </td><td>103.46</td></tr>\n",
       "\t<tr><th scope=row>5</th><td>1985-03-01</td><td>Rye                 </td><td>Alberta             </td><td> 96.77</td></tr>\n",
       "\t<tr><th scope=row>6</th><td>1985-03-01</td><td>Rye                 </td><td>Saskatchewan        </td><td>106.38</td></tr>\n",
       "</tbody>\n",
       "</table>\n"
      ],
      "text/latex": [
       "A data.frame: 6 × 4\n",
       "\\begin{tabular}{r|llll}\n",
       "  & PRICE\\_DATE & CROP\\_TYPE & GEO & PRICE\\_PER\\_MT\\\\\n",
       "  & <date> & <fct> & <fct> & <dbl>\\\\\n",
       "\\hline\n",
       "\t1 & 1985-01-01 & Rye                  & Alberta              & 100.77\\\\\n",
       "\t2 & 1985-01-01 & Rye                  & Saskatchewan         & 109.75\\\\\n",
       "\t3 & 1985-02-01 & Rye                  & Alberta              &  95.05\\\\\n",
       "\t4 & 1985-02-01 & Rye                  & Saskatchewan         & 103.46\\\\\n",
       "\t5 & 1985-03-01 & Rye                  & Alberta              &  96.77\\\\\n",
       "\t6 & 1985-03-01 & Rye                  & Saskatchewan         & 106.38\\\\\n",
       "\\end{tabular}\n"
      ],
      "text/markdown": [
       "\n",
       "A data.frame: 6 × 4\n",
       "\n",
       "| <!--/--> | PRICE_DATE &lt;date&gt; | CROP_TYPE &lt;fct&gt; | GEO &lt;fct&gt; | PRICE_PER_MT &lt;dbl&gt; |\n",
       "|---|---|---|---|---|\n",
       "| 1 | 1985-01-01 | Rye                  | Alberta              | 100.77 |\n",
       "| 2 | 1985-01-01 | Rye                  | Saskatchewan         | 109.75 |\n",
       "| 3 | 1985-02-01 | Rye                  | Alberta              |  95.05 |\n",
       "| 4 | 1985-02-01 | Rye                  | Saskatchewan         | 103.46 |\n",
       "| 5 | 1985-03-01 | Rye                  | Alberta              |  96.77 |\n",
       "| 6 | 1985-03-01 | Rye                  | Saskatchewan         | 106.38 |\n",
       "\n"
      ],
      "text/plain": [
       "  PRICE_DATE CROP_TYPE            GEO                  PRICE_PER_MT\n",
       "1 1985-01-01 Rye                  Alberta              100.77      \n",
       "2 1985-01-01 Rye                  Saskatchewan         109.75      \n",
       "3 1985-02-01 Rye                  Alberta               95.05      \n",
       "4 1985-02-01 Rye                  Saskatchewan         103.46      \n",
       "5 1985-03-01 Rye                  Alberta               96.77      \n",
       "6 1985-03-01 Rye                  Saskatchewan         106.38      "
      ]
     },
     "metadata": {},
     "output_type": "display_data"
    }
   ],
   "source": [
    "query <- \"SELECT * FROM FARM_PRICES WHERE CROP_TYPE='Rye' LIMIT 6\"\n",
    "rye_6rows <- sqlQuery(conn, query)\n",
    "rye_6rows"
   ]
  },
  {
   "cell_type": "markdown",
   "metadata": {},
   "source": [
    "## Problem 7\n",
    "\n",
    "#### Which provinces grew Barley?\n"
   ]
  },
  {
   "cell_type": "markdown",
   "metadata": {},
   "source": [
    "### Solution 7\n"
   ]
  },
  {
   "cell_type": "code",
   "execution_count": 30,
   "metadata": {},
   "outputs": [
    {
     "data": {
      "text/html": [
       "<table>\n",
       "<caption>A data.frame: 3 × 1</caption>\n",
       "<thead>\n",
       "\t<tr><th></th><th scope=col>BARLEY_PROVINCE</th></tr>\n",
       "\t<tr><th></th><th scope=col>&lt;fct&gt;</th></tr>\n",
       "</thead>\n",
       "<tbody>\n",
       "\t<tr><th scope=row>1</th><td>Alberta             </td></tr>\n",
       "\t<tr><th scope=row>2</th><td>Canada              </td></tr>\n",
       "\t<tr><th scope=row>3</th><td>Saskatchewan        </td></tr>\n",
       "</tbody>\n",
       "</table>\n"
      ],
      "text/latex": [
       "A data.frame: 3 × 1\n",
       "\\begin{tabular}{r|l}\n",
       "  & BARLEY\\_PROVINCE\\\\\n",
       "  & <fct>\\\\\n",
       "\\hline\n",
       "\t1 & Alberta             \\\\\n",
       "\t2 & Canada              \\\\\n",
       "\t3 & Saskatchewan        \\\\\n",
       "\\end{tabular}\n"
      ],
      "text/markdown": [
       "\n",
       "A data.frame: 3 × 1\n",
       "\n",
       "| <!--/--> | BARLEY_PROVINCE &lt;fct&gt; |\n",
       "|---|---|\n",
       "| 1 | Alberta              |\n",
       "| 2 | Canada               |\n",
       "| 3 | Saskatchewan         |\n",
       "\n"
      ],
      "text/plain": [
       "  BARLEY_PROVINCE     \n",
       "1 Alberta             \n",
       "2 Canada              \n",
       "3 Saskatchewan        "
      ]
     },
     "metadata": {},
     "output_type": "display_data"
    }
   ],
   "source": [
    "query <- \"SELECT DISTINCT(GEO) AS BARLEY_PROVINCE FROM CROP_DATA WHERE CROP_TYPE='Barley'\"\n",
    "barley_Prov <- sqlQuery(conn, query)\n",
    "barley_Prov"
   ]
  },
  {
   "cell_type": "markdown",
   "metadata": {},
   "source": [
    "## Problem 8\n",
    "\n",
    "#### Find the first and last dates for the farm prices data.\n"
   ]
  },
  {
   "cell_type": "markdown",
   "metadata": {},
   "source": [
    "### Solution 8\n"
   ]
  },
  {
   "cell_type": "code",
   "execution_count": 31,
   "metadata": {},
   "outputs": [
    {
     "data": {
      "text/html": [
       "<table>\n",
       "<caption>A data.frame: 1 × 2</caption>\n",
       "<thead>\n",
       "\t<tr><th></th><th scope=col>FIRST_DATE</th><th scope=col>LAST_DATE</th></tr>\n",
       "\t<tr><th></th><th scope=col>&lt;date&gt;</th><th scope=col>&lt;date&gt;</th></tr>\n",
       "</thead>\n",
       "<tbody>\n",
       "\t<tr><th scope=row>1</th><td>1985-01-01</td><td>2020-12-01</td></tr>\n",
       "</tbody>\n",
       "</table>\n"
      ],
      "text/latex": [
       "A data.frame: 1 × 2\n",
       "\\begin{tabular}{r|ll}\n",
       "  & FIRST\\_DATE & LAST\\_DATE\\\\\n",
       "  & <date> & <date>\\\\\n",
       "\\hline\n",
       "\t1 & 1985-01-01 & 2020-12-01\\\\\n",
       "\\end{tabular}\n"
      ],
      "text/markdown": [
       "\n",
       "A data.frame: 1 × 2\n",
       "\n",
       "| <!--/--> | FIRST_DATE &lt;date&gt; | LAST_DATE &lt;date&gt; |\n",
       "|---|---|---|\n",
       "| 1 | 1985-01-01 | 2020-12-01 |\n",
       "\n"
      ],
      "text/plain": [
       "  FIRST_DATE LAST_DATE \n",
       "1 1985-01-01 2020-12-01"
      ]
     },
     "metadata": {},
     "output_type": "display_data"
    }
   ],
   "source": [
    "query <- \"SELECT MIN(PRICE_DATE) AS FIRST_DATE,\n",
    "        MAX(PRICE_DATE) AS LAST_DATE FROM FARM_PRICES\"\n",
    "\n",
    "First_Last <- sqlQuery(conn, query)\n",
    "First_Last"
   ]
  },
  {
   "cell_type": "markdown",
   "metadata": {},
   "source": [
    "## Problem 9\n",
    "\n",
    "#### Which crops have ever reached a farm price greater than or equal to $350 per metric tonne?\n"
   ]
  },
  {
   "cell_type": "markdown",
   "metadata": {},
   "source": [
    "### Solution 9\n"
   ]
  },
  {
   "cell_type": "code",
   "execution_count": 32,
   "metadata": {},
   "outputs": [
    {
     "data": {
      "text/html": [
       "<table>\n",
       "<caption>A data.frame: 1 × 1</caption>\n",
       "<thead>\n",
       "\t<tr><th></th><th scope=col>CROP_TYPE</th></tr>\n",
       "\t<tr><th></th><th scope=col>&lt;fct&gt;</th></tr>\n",
       "</thead>\n",
       "<tbody>\n",
       "\t<tr><th scope=row>1</th><td>Canola              </td></tr>\n",
       "</tbody>\n",
       "</table>\n"
      ],
      "text/latex": [
       "A data.frame: 1 × 1\n",
       "\\begin{tabular}{r|l}\n",
       "  & CROP\\_TYPE\\\\\n",
       "  & <fct>\\\\\n",
       "\\hline\n",
       "\t1 & Canola              \\\\\n",
       "\\end{tabular}\n"
      ],
      "text/markdown": [
       "\n",
       "A data.frame: 1 × 1\n",
       "\n",
       "| <!--/--> | CROP_TYPE &lt;fct&gt; |\n",
       "|---|---|\n",
       "| 1 | Canola               |\n",
       "\n"
      ],
      "text/plain": [
       "  CROP_TYPE           \n",
       "1 Canola              "
      ]
     },
     "metadata": {},
     "output_type": "display_data"
    }
   ],
   "source": [
    "query <- \"SELECT DISTINCT(CROP_TYPE) FROM FARM_PRICES\n",
    "            WHERE PRICE_PER_MT >= 350\"\n",
    "crop_350 <- sqlQuery(conn, query)\n",
    "crop_350"
   ]
  },
  {
   "cell_type": "markdown",
   "metadata": {},
   "source": [
    "## Problem 10\n",
    "\n",
    "#### Rank the crop types harvested in Saskatchewan in the year 2000 by their average yield. Which crop performed best?\n"
   ]
  },
  {
   "cell_type": "markdown",
   "metadata": {},
   "source": [
    "### Solution 10\n"
   ]
  },
  {
   "cell_type": "code",
   "execution_count": 34,
   "metadata": {},
   "outputs": [
    {
     "data": {
      "text/html": [
       "<table>\n",
       "<caption>A data.frame: 4 × 4</caption>\n",
       "<thead>\n",
       "\t<tr><th></th><th scope=col>CROP_TYPE</th><th scope=col>GEO</th><th scope=col>AVG_YIELD</th><th scope=col>CROP_DATE</th></tr>\n",
       "\t<tr><th></th><th scope=col>&lt;fct&gt;</th><th scope=col>&lt;fct&gt;</th><th scope=col>&lt;int&gt;</th><th scope=col>&lt;date&gt;</th></tr>\n",
       "</thead>\n",
       "<tbody>\n",
       "\t<tr><th scope=row>1</th><td>Barley              </td><td>Saskatchewan        </td><td>2800</td><td>2000-12-31</td></tr>\n",
       "\t<tr><th scope=row>2</th><td>Wheat               </td><td>Saskatchewan        </td><td>2200</td><td>2000-12-31</td></tr>\n",
       "\t<tr><th scope=row>3</th><td>Rye                 </td><td>Saskatchewan        </td><td>2100</td><td>2000-12-31</td></tr>\n",
       "\t<tr><th scope=row>4</th><td>Canola              </td><td>Saskatchewan        </td><td>1400</td><td>2000-12-31</td></tr>\n",
       "</tbody>\n",
       "</table>\n"
      ],
      "text/latex": [
       "A data.frame: 4 × 4\n",
       "\\begin{tabular}{r|llll}\n",
       "  & CROP\\_TYPE & GEO & AVG\\_YIELD & CROP\\_DATE\\\\\n",
       "  & <fct> & <fct> & <int> & <date>\\\\\n",
       "\\hline\n",
       "\t1 & Barley               & Saskatchewan         & 2800 & 2000-12-31\\\\\n",
       "\t2 & Wheat                & Saskatchewan         & 2200 & 2000-12-31\\\\\n",
       "\t3 & Rye                  & Saskatchewan         & 2100 & 2000-12-31\\\\\n",
       "\t4 & Canola               & Saskatchewan         & 1400 & 2000-12-31\\\\\n",
       "\\end{tabular}\n"
      ],
      "text/markdown": [
       "\n",
       "A data.frame: 4 × 4\n",
       "\n",
       "| <!--/--> | CROP_TYPE &lt;fct&gt; | GEO &lt;fct&gt; | AVG_YIELD &lt;int&gt; | CROP_DATE &lt;date&gt; |\n",
       "|---|---|---|---|---|\n",
       "| 1 | Barley               | Saskatchewan         | 2800 | 2000-12-31 |\n",
       "| 2 | Wheat                | Saskatchewan         | 2200 | 2000-12-31 |\n",
       "| 3 | Rye                  | Saskatchewan         | 2100 | 2000-12-31 |\n",
       "| 4 | Canola               | Saskatchewan         | 1400 | 2000-12-31 |\n",
       "\n"
      ],
      "text/plain": [
       "  CROP_TYPE            GEO                  AVG_YIELD CROP_DATE \n",
       "1 Barley               Saskatchewan         2800      2000-12-31\n",
       "2 Wheat                Saskatchewan         2200      2000-12-31\n",
       "3 Rye                  Saskatchewan         2100      2000-12-31\n",
       "4 Canola               Saskatchewan         1400      2000-12-31"
      ]
     },
     "metadata": {},
     "output_type": "display_data"
    },
    {
     "name": "stdout",
     "output_type": "stream",
     "text": [
      "[1] \"THE CROP THAT PERFORMED BEST: \"\n"
     ]
    },
    {
     "data": {
      "text/html": [
       "<span style=white-space:pre-wrap>'Barley               PERFORMED BEST!'</span>"
      ],
      "text/latex": [
       "'Barley               PERFORMED BEST!'"
      ],
      "text/markdown": [
       "<span style=white-space:pre-wrap>'Barley               PERFORMED BEST!'</span>"
      ],
      "text/plain": [
       "[1] \"Barley               PERFORMED BEST!\""
      ]
     },
     "metadata": {},
     "output_type": "display_data"
    }
   ],
   "source": [
    "query <- \"SELECT CROP_TYPE, GEO, AVG_YIELD, CROP_DATE FROM CROP_DATA\n",
    "        WHERE YEAR(CROP_DATE)=2000 AND GEO='Saskatchewan'        \n",
    "        ORDER BY 3 DESC\"\n",
    "sask_yieldRank <- sqlQuery(conn, query)\n",
    "sask_yieldRank\n",
    "\n",
    "print(\"THE CROP THAT PERFORMED BEST: \")\n",
    "\n",
    "paste(sask_yieldRank$CROP_TYPE[1], \"PERFORMED BEST!\" )\n"
   ]
  },
  {
   "cell_type": "markdown",
   "metadata": {},
   "source": [
    "## Problem 11\n",
    "\n",
    "#### Rank the crops and geographies by their average yield (KG per hectare) since the year 2000. Which crop and province had the highest average yield since the year 2000?\n"
   ]
  },
  {
   "cell_type": "markdown",
   "metadata": {},
   "source": [
    "### Solution 11\n"
   ]
  },
  {
   "cell_type": "code",
   "execution_count": 58,
   "metadata": {},
   "outputs": [
    {
     "data": {
      "text/html": [
       "<table>\n",
       "<caption>A data.frame: 6 × 4</caption>\n",
       "<thead>\n",
       "\t<tr><th></th><th scope=col>CROP_TYPE</th><th scope=col>GEO</th><th scope=col>AVGE_YIELD</th><th scope=col>CROP_DATE</th></tr>\n",
       "\t<tr><th></th><th scope=col>&lt;fct&gt;</th><th scope=col>&lt;fct&gt;</th><th scope=col>&lt;int&gt;</th><th scope=col>&lt;date&gt;</th></tr>\n",
       "</thead>\n",
       "<tbody>\n",
       "\t<tr><th scope=row>1</th><td>Barley              </td><td>Alberta             </td><td>4100</td><td>2013-12-31</td></tr>\n",
       "\t<tr><th scope=row>2</th><td>Barley              </td><td>Alberta             </td><td>4100</td><td>2016-12-31</td></tr>\n",
       "\t<tr><th scope=row>3</th><td>Barley              </td><td>Alberta             </td><td>3980</td><td>2020-12-31</td></tr>\n",
       "\t<tr><th scope=row>4</th><td>Wheat               </td><td>Alberta             </td><td>3900</td><td>2013-12-31</td></tr>\n",
       "\t<tr><th scope=row>5</th><td>Wheat               </td><td>Alberta             </td><td>3900</td><td>2016-12-31</td></tr>\n",
       "\t<tr><th scope=row>6</th><td>Barley              </td><td>Canada              </td><td>3900</td><td>2016-12-31</td></tr>\n",
       "</tbody>\n",
       "</table>\n"
      ],
      "text/latex": [
       "A data.frame: 6 × 4\n",
       "\\begin{tabular}{r|llll}\n",
       "  & CROP\\_TYPE & GEO & AVGE\\_YIELD & CROP\\_DATE\\\\\n",
       "  & <fct> & <fct> & <int> & <date>\\\\\n",
       "\\hline\n",
       "\t1 & Barley               & Alberta              & 4100 & 2013-12-31\\\\\n",
       "\t2 & Barley               & Alberta              & 4100 & 2016-12-31\\\\\n",
       "\t3 & Barley               & Alberta              & 3980 & 2020-12-31\\\\\n",
       "\t4 & Wheat                & Alberta              & 3900 & 2013-12-31\\\\\n",
       "\t5 & Wheat                & Alberta              & 3900 & 2016-12-31\\\\\n",
       "\t6 & Barley               & Canada               & 3900 & 2016-12-31\\\\\n",
       "\\end{tabular}\n"
      ],
      "text/markdown": [
       "\n",
       "A data.frame: 6 × 4\n",
       "\n",
       "| <!--/--> | CROP_TYPE &lt;fct&gt; | GEO &lt;fct&gt; | AVGE_YIELD &lt;int&gt; | CROP_DATE &lt;date&gt; |\n",
       "|---|---|---|---|---|\n",
       "| 1 | Barley               | Alberta              | 4100 | 2013-12-31 |\n",
       "| 2 | Barley               | Alberta              | 4100 | 2016-12-31 |\n",
       "| 3 | Barley               | Alberta              | 3980 | 2020-12-31 |\n",
       "| 4 | Wheat                | Alberta              | 3900 | 2013-12-31 |\n",
       "| 5 | Wheat                | Alberta              | 3900 | 2016-12-31 |\n",
       "| 6 | Barley               | Canada               | 3900 | 2016-12-31 |\n",
       "\n"
      ],
      "text/plain": [
       "  CROP_TYPE            GEO                  AVGE_YIELD CROP_DATE \n",
       "1 Barley               Alberta              4100       2013-12-31\n",
       "2 Barley               Alberta              4100       2016-12-31\n",
       "3 Barley               Alberta              3980       2020-12-31\n",
       "4 Wheat                Alberta              3900       2013-12-31\n",
       "5 Wheat                Alberta              3900       2016-12-31\n",
       "6 Barley               Canada               3900       2016-12-31"
      ]
     },
     "metadata": {},
     "output_type": "display_data"
    }
   ],
   "source": [
    "query <- \"SELECT CROP_TYPE, GEO, AVG(AVG_YIELD) AS AVGE_YIELD, CROP_DATE FROM CROP_DATA\n",
    "        GROUP BY CROP_TYPE, GEO, CROP_DATE\n",
    "        HAVING YEAR(CROP_DATE) >= 2000\n",
    "        ORDER BY AVG(AVG_YIELD) DESC\"\n",
    "crop_rank_avg_yield <- sqlQuery(conn, query)\n",
    "head(crop_rank_avg_yield)\n",
    "\n",
    "# #Highest average yield\n",
    "# query2 <- \"SELECT AVG_YIELD, GEO, CROP_TYPE, CROP_DATE FROM CROP_DATA WHERE AVG_YIELD = (SELECT MAX(AVG_YIELD) FROM CROP_DATA) AND YEAR(CROP_DATE)>=2000\"\n",
    "# highest_avgYield_cropAndProvince <- sqlQuery(conn, query2)\n",
    "\n",
    "# paste(\"THE CROPS AND/OR PROVINCES WITH THE HIGHEST YIELD(S) IS/are AS FOLLOWS:\")\n",
    "# highest_avgYield_cropAndProvince\n",
    "# paste(highest_avgYield_cropAndProvince$GEO[1], \" HAD THE HIEGHEST YIELD\")"
   ]
  },
  {
   "cell_type": "markdown",
   "metadata": {},
   "source": [
    "## Problem 12\n",
    "\n",
    "#### Use a subquery to determine how much wheat was harvested in Canada in the most recent year of the data.\n"
   ]
  },
  {
   "cell_type": "markdown",
   "metadata": {},
   "source": [
    "### Solution 12\n"
   ]
  },
  {
   "cell_type": "code",
   "execution_count": 59,
   "metadata": {},
   "outputs": [
    {
     "data": {
      "text/html": [
       "<table>\n",
       "<caption>A data.frame: 1 × 1</caption>\n",
       "<thead>\n",
       "\t<tr><th></th><th scope=col>WHEAT_SUM_RECENT_YEAR</th></tr>\n",
       "\t<tr><th></th><th scope=col>&lt;int&gt;</th></tr>\n",
       "</thead>\n",
       "<tbody>\n",
       "\t<tr><th scope=row>1</th><td>35183000</td></tr>\n",
       "</tbody>\n",
       "</table>\n"
      ],
      "text/latex": [
       "A data.frame: 1 × 1\n",
       "\\begin{tabular}{r|l}\n",
       "  & WHEAT\\_SUM\\_RECENT\\_YEAR\\\\\n",
       "  & <int>\\\\\n",
       "\\hline\n",
       "\t1 & 35183000\\\\\n",
       "\\end{tabular}\n"
      ],
      "text/markdown": [
       "\n",
       "A data.frame: 1 × 1\n",
       "\n",
       "| <!--/--> | WHEAT_SUM_RECENT_YEAR &lt;int&gt; |\n",
       "|---|---|\n",
       "| 1 | 35183000 |\n",
       "\n"
      ],
      "text/plain": [
       "  WHEAT_SUM_RECENT_YEAR\n",
       "1 35183000             "
      ]
     },
     "metadata": {},
     "output_type": "display_data"
    }
   ],
   "source": [
    "query <- \"SELECT SUM(PRODUCTION) AS WHEAT_SUM_RECENT_YEAR FROM CROP_DATA WHERE CROP_TYPE='Wheat' AND GEO = 'Canada' AND ((YEAR(CROP_DATE)) = (SELECT MAX(YEAR(CROP_DATE)) FROM CROP_DATA))\"\n",
    "\n",
    "recent_wheat <- sqlQuery(conn, query)\n",
    "recent_wheat"
   ]
  },
  {
   "cell_type": "markdown",
   "metadata": {},
   "source": [
    "## Problem 13\n",
    "\n",
    "#### Use an implicit inner join to calculate the monthly price per metric tonne of Canola grown in Saskatchewan in both Canadian and US dollars. Display the most recent 6 months of the data.\n"
   ]
  },
  {
   "cell_type": "markdown",
   "metadata": {},
   "source": [
    "### Solution 13\n"
   ]
  },
  {
   "cell_type": "code",
   "execution_count": 60,
   "metadata": {},
   "outputs": [
    {
     "data": {
      "text/html": [
       "<table>\n",
       "<caption>A data.frame: 6 × 7</caption>\n",
       "<thead>\n",
       "\t<tr><th></th><th scope=col>CROP_TYPE</th><th scope=col>GEO</th><th scope=col>FX_DATE</th><th scope=col>PRICE_DATE</th><th scope=col>FXUSDCAD</th><th scope=col>CANADA_PRICE_PER_MT</th><th scope=col>USDPRICE_PER_MT</th></tr>\n",
       "\t<tr><th></th><th scope=col>&lt;fct&gt;</th><th scope=col>&lt;fct&gt;</th><th scope=col>&lt;date&gt;</th><th scope=col>&lt;date&gt;</th><th scope=col>&lt;dbl&gt;</th><th scope=col>&lt;dbl&gt;</th><th scope=col>&lt;dbl&gt;</th></tr>\n",
       "</thead>\n",
       "<tbody>\n",
       "\t<tr><th scope=row>1</th><td>Canola              </td><td>Saskatchewan        </td><td>2020-12-01</td><td>2020-12-01</td><td>1.280771</td><td>507.33</td><td>396.1130</td></tr>\n",
       "\t<tr><th scope=row>2</th><td>Canola              </td><td>Saskatchewan        </td><td>2020-11-01</td><td>2020-11-01</td><td>1.306820</td><td>495.64</td><td>379.2718</td></tr>\n",
       "\t<tr><th scope=row>3</th><td>Canola              </td><td>Saskatchewan        </td><td>2020-10-01</td><td>2020-10-01</td><td>1.321471</td><td>474.80</td><td>359.2966</td></tr>\n",
       "\t<tr><th scope=row>4</th><td>Canola              </td><td>Saskatchewan        </td><td>2020-09-01</td><td>2020-09-01</td><td>1.322810</td><td>463.52</td><td>350.4056</td></tr>\n",
       "\t<tr><th scope=row>5</th><td>Canola              </td><td>Saskatchewan        </td><td>2020-08-01</td><td>2020-08-01</td><td>1.322205</td><td>464.60</td><td>351.3827</td></tr>\n",
       "\t<tr><th scope=row>6</th><td>Canola              </td><td>Saskatchewan        </td><td>2020-07-01</td><td>2020-07-01</td><td>1.349850</td><td>462.88</td><td>342.9122</td></tr>\n",
       "</tbody>\n",
       "</table>\n"
      ],
      "text/latex": [
       "A data.frame: 6 × 7\n",
       "\\begin{tabular}{r|lllllll}\n",
       "  & CROP\\_TYPE & GEO & FX\\_DATE & PRICE\\_DATE & FXUSDCAD & CANADA\\_PRICE\\_PER\\_MT & USDPRICE\\_PER\\_MT\\\\\n",
       "  & <fct> & <fct> & <date> & <date> & <dbl> & <dbl> & <dbl>\\\\\n",
       "\\hline\n",
       "\t1 & Canola               & Saskatchewan         & 2020-12-01 & 2020-12-01 & 1.280771 & 507.33 & 396.1130\\\\\n",
       "\t2 & Canola               & Saskatchewan         & 2020-11-01 & 2020-11-01 & 1.306820 & 495.64 & 379.2718\\\\\n",
       "\t3 & Canola               & Saskatchewan         & 2020-10-01 & 2020-10-01 & 1.321471 & 474.80 & 359.2966\\\\\n",
       "\t4 & Canola               & Saskatchewan         & 2020-09-01 & 2020-09-01 & 1.322810 & 463.52 & 350.4056\\\\\n",
       "\t5 & Canola               & Saskatchewan         & 2020-08-01 & 2020-08-01 & 1.322205 & 464.60 & 351.3827\\\\\n",
       "\t6 & Canola               & Saskatchewan         & 2020-07-01 & 2020-07-01 & 1.349850 & 462.88 & 342.9122\\\\\n",
       "\\end{tabular}\n"
      ],
      "text/markdown": [
       "\n",
       "A data.frame: 6 × 7\n",
       "\n",
       "| <!--/--> | CROP_TYPE &lt;fct&gt; | GEO &lt;fct&gt; | FX_DATE &lt;date&gt; | PRICE_DATE &lt;date&gt; | FXUSDCAD &lt;dbl&gt; | CANADA_PRICE_PER_MT &lt;dbl&gt; | USDPRICE_PER_MT &lt;dbl&gt; |\n",
       "|---|---|---|---|---|---|---|---|\n",
       "| 1 | Canola               | Saskatchewan         | 2020-12-01 | 2020-12-01 | 1.280771 | 507.33 | 396.1130 |\n",
       "| 2 | Canola               | Saskatchewan         | 2020-11-01 | 2020-11-01 | 1.306820 | 495.64 | 379.2718 |\n",
       "| 3 | Canola               | Saskatchewan         | 2020-10-01 | 2020-10-01 | 1.321471 | 474.80 | 359.2966 |\n",
       "| 4 | Canola               | Saskatchewan         | 2020-09-01 | 2020-09-01 | 1.322810 | 463.52 | 350.4056 |\n",
       "| 5 | Canola               | Saskatchewan         | 2020-08-01 | 2020-08-01 | 1.322205 | 464.60 | 351.3827 |\n",
       "| 6 | Canola               | Saskatchewan         | 2020-07-01 | 2020-07-01 | 1.349850 | 462.88 | 342.9122 |\n",
       "\n"
      ],
      "text/plain": [
       "  CROP_TYPE            GEO                  FX_DATE    PRICE_DATE FXUSDCAD\n",
       "1 Canola               Saskatchewan         2020-12-01 2020-12-01 1.280771\n",
       "2 Canola               Saskatchewan         2020-11-01 2020-11-01 1.306820\n",
       "3 Canola               Saskatchewan         2020-10-01 2020-10-01 1.321471\n",
       "4 Canola               Saskatchewan         2020-09-01 2020-09-01 1.322810\n",
       "5 Canola               Saskatchewan         2020-08-01 2020-08-01 1.322205\n",
       "6 Canola               Saskatchewan         2020-07-01 2020-07-01 1.349850\n",
       "  CANADA_PRICE_PER_MT USDPRICE_PER_MT\n",
       "1 507.33              396.1130       \n",
       "2 495.64              379.2718       \n",
       "3 474.80              359.2966       \n",
       "4 463.52              350.4056       \n",
       "5 464.60              351.3827       \n",
       "6 462.88              342.9122       "
      ]
     },
     "metadata": {},
     "output_type": "display_data"
    }
   ],
   "source": [
    "query <- \"SELECT FP.CROP_TYPE, FP.GEO, MF.FX_DATE, FP.PRICE_DATE,  MF.FXUSDCAD AS FXUSDCAD, FP.PRICE_PER_MT AS CANADA_PRICE_PER_MT,\n",
    "        (FP.PRICE_PER_MT / MF.FXUSDCAD) AS USDPRICE_PER_MT  FROM MONTHLY_FX AS MF, FARM_PRICES AS FP\n",
    "        WHERE FP.PRICE_DATE = MF.FX_DATE AND FP.CROP_TYPE='Canola' AND FP.GEO= 'Saskatchewan'\n",
    "        ORDER BY FP.PRICE_DATE DESC LIMIT 6\"\n",
    "sqlQuery(conn, query)"
   ]
  },
  {
   "cell_type": "code",
   "execution_count": 62,
   "metadata": {},
   "outputs": [
    {
     "ename": "ERROR",
     "evalue": "Error in odbcClose(con): argument is not an open RODBC channel\n",
     "execution_count": 62,
     "output_type": "error",
     "traceback": [
      "Error in odbcClose(con): argument is not an open RODBC channel\nTraceback:\n",
      "1. close(conn)",
      "2. close.RODBC(conn)",
      "3. ifelse(odbcClose(con), 0L, 1L)",
      "4. odbcClose(con)",
      "5. stop(\"argument is not an open RODBC channel\")"
     ]
    }
   ],
   "source": [
    "close(conn)"
   ]
  },
  {
   "cell_type": "markdown",
   "metadata": {},
   "source": [
    "## Author(s)\n",
    "\n",
    "<h4> Jeff Grossman </h4>\n",
    "\n",
    "## Contributor(s)\n",
    "\n",
    "<h4> Rav Ahuja </h4>\n",
    "\n",
    "## Change log\n",
    "\n",
    "| Date       | Version | Changed by    | Change Description                                                                                         |\n",
    "| ---------- | ------- | ------------- | ---------------------------------------------------------------------------------------------------------- |\n",
    "| 2021-04-01 | 0.7     | Jeff Grossman | Split Problem 1 solution cell into multiple cells, fixed minor bugs                                        |\n",
    "| 2021-03-12 | 0.6     | Jeff Grossman | Cleaned up content for production                                                                          |\n",
    "| 2021-03-11 | 0.5     | Jeff Grossman | Moved more advanced problems to optional honours module                                                    |\n",
    "| 2021-03-10 | 0.4     | Jeff Grossman | Added introductory and intermediate level problems and removed some advanced problems                      |\n",
    "| 2021-03-04 | 0.3     | Jeff Grossman | Moved some problems to a new practice lab as prep for this assignment                                      |\n",
    "| 2021-03-04 | 0.2     | Jeff Grossman | Sorted problems roughly by level of difficulty and relegated more advanced ones to ungraded bonus problems |\n",
    "| 2021-02-20 | 0.1     | Jeff Grossman | Started content creation                                                                                   |\n",
    "\n",
    "## <h3 align=\"center\"> © IBM Corporation 2021. All rights reserved. <h3/>\n"
   ]
  }
 ],
 "metadata": {
  "kernelspec": {
   "display_name": "R",
   "language": "R",
   "name": "conda-env-r-r"
  },
  "language_info": {
   "codemirror_mode": "r",
   "file_extension": ".r",
   "mimetype": "text/x-r-source",
   "name": "R",
   "pygments_lexer": "r",
   "version": "3.5.1"
  },
  "widgets": {
   "state": {},
   "version": "1.1.2"
  }
 },
 "nbformat": 4,
 "nbformat_minor": 4
}
