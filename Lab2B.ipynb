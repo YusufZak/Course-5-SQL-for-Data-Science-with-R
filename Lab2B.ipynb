{
 "cells": [
  {
   "cell_type": "markdown",
   "metadata": {},
   "source": [
    "<center><img src = \"https://cf-courses-data.s3.us.cloud-object-storage.appdomain.cloud/IBMDeveloperSkillsNetwork-RP0103EN-SkillsNetwork/labs/module%201/images/IDSNlogo.png\" width = 250></center>\n",
    "\n",
    "<h1 align=center><font size = 5>Hands-on Lab: Accessing Your Database with RODBC</h1>\n"
   ]
  },
  {
   "cell_type": "markdown",
   "metadata": {},
   "source": [
    "### Welcome!\n",
    "\n",
    "In this hands-on lab, we will learn how to connect and discover metadata from database servers with R using RODBC.\n"
   ]
  },
  {
   "cell_type": "markdown",
   "metadata": {},
   "source": [
    "<div class=\"alert alert-block alert-info\" style=\"margin-top: 20px\">\n",
    "<h3>Tasks</h3>\n",
    "<ol><ol><ol>\n",
    "<li><a href=\"#ref6a\">Pre-requisites</a></li>\n",
    "<li><a href=\"#ref6b\">Create an R notebook</a></li>\n",
    "<li><a href=\"#ref6c\">Load RODBC</a></li>\n",
    "<li><a href=\"#ref6d\">Connection information</a></li>\n",
    "<li><a href=\"#ref6e\">Create a database connection</a></li>\n",
    "<li><a href=\"#ref6f\">Connection Attributes</a></li>\n",
    "<li><a href=\"#ref6g\">Connection Metadata</a></li>\n",
    "<li><a href=\"#ref6h\">Supported Datatypes</a></li>\n",
    "<li><a href=\"#ref6i\">List of Tables</a></li>\n",
    "<li><a href=\"#ref6j\">Columns in a Table</a></li>\n",
    "<li><a href=\"#ref6k\">Dis-connect</a></li>\n",
    "</ol></ol></ol>\n",
    "<br>\n",
    "Estimated Time Needed: <strong>15 min</strong>\n",
    "</div>\n"
   ]
  },
  {
   "cell_type": "markdown",
   "metadata": {},
   "source": [
    "<a id=\"ref6a\"></a>\n",
    "\n",
    "<h3>a. Pre-requisites</h3>\n"
   ]
  },
  {
   "cell_type": "markdown",
   "metadata": {},
   "source": [
    "In this lab we will use Jupyter Notebooks within SN Labs to access data in a Db2 on Cloud database using RODBC.  Information about Jupyter notebooks, SN Labs, and Db2 services is provided in the previous labs.\n"
   ]
  },
  {
   "cell_type": "markdown",
   "metadata": {},
   "source": [
    "<a id=\"ref6b\"></a>\n",
    "\n",
    "<h3>b. Create an R notebook</h3>\n"
   ]
  },
  {
   "cell_type": "markdown",
   "metadata": {},
   "source": [
    "If necessary, set the notebook kernel to use R (using the dropdown in the top right corner).\n",
    "\n",
    "![](https://ibm.box.com/shared/static/vb8qv1tyq3b40sq4urgyfk9fwi2i8rpm.png)\n"
   ]
  },
  {
   "cell_type": "markdown",
   "metadata": {},
   "source": [
    "<a id=\"ref6c\"></a>\n",
    "\n",
    "<h3>c. Load RODBC</h3>\n"
   ]
  },
  {
   "cell_type": "markdown",
   "metadata": {},
   "source": [
    "The RODBC package and the ODBC driver for Db2 are pre-installed on your workbench. Let’s load the RODBC package by clicking on the following cell and executing it (Shift+Enter):\n"
   ]
  },
  {
   "cell_type": "code",
   "execution_count": 1,
   "metadata": {},
   "outputs": [],
   "source": [
    "library(\"RODBC\")"
   ]
  },
  {
   "cell_type": "markdown",
   "metadata": {},
   "source": [
    "<a id=\"ref6d\"></a>\n",
    "\n",
    "<h3>d. Connection information</h3>\n"
   ]
  },
  {
   "cell_type": "markdown",
   "metadata": {},
   "source": [
    "In the following cell enter the connection details for your instance of Db2 and run it. Remember to update the values for hostname, userid, and password.\n",
    "\n",
    "For instructions on accessing **Db2 Service Credentials**, go to **Hands-on Lab: Setup your database service instance and Access service credentials**.\n"
   ]
  },
  {
   "cell_type": "code",
   "execution_count": 2,
   "metadata": {},
   "outputs": [],
   "source": [
    "dsn_driver <- \"{IBM DB2 ODBC Driver}\"\n",
    "dsn_database <- \"bludb\"            # e.g. \"bludb\"\n",
    "dsn_hostname <- \"55fbc997-9266-4331-afd3-888b05e734c0.bs2io90l08kqb1od8lcg.databases.appdomain.cloud\" # e.g \"54a2f15b-5c0f-46df-8954-.databases.appdomain.cloud\"\n",
    "dsn_port <- \"31929\"   # e.g. \"32733\" \n",
    "dsn_protocol <- \"TCPIP\"            # i.e. \"TCPIP\"\n",
    "dsn_uid <- \"gmx74666\"        # e.g. \"zjh17769\"\n",
    "dsn_pwd <- \"0L7nXAM2OKo5TGZs\"      # e.g. \"zcwd4+8gbq9bm5k4\"  \n",
    "dsn_security <- \"ssl\""
   ]
  },
  {
   "cell_type": "markdown",
   "metadata": {},
   "source": [
    "<details>\n",
    "<summary>Click here to view/hide hint</summary>\n",
    "<p>\n",
    "\n",
    "```\n",
    "# Fill in the <...>\n",
    "dsn_driver <- \"{...}\"\n",
    "dsn_database <- \"...\"            \n",
    "dsn_hostname <- \"<Enter Hostname>\" \n",
    "dsn_port <- \"...\"                \n",
    "dsn_protocol <- \"...\"            \n",
    "dsn_uid <- \"<Enter UserID>\"        \n",
    "dsn_pwd <- \"<Enter Password>\" \n",
    "dsn_security <- \"ssl\"\n",
    "           \n",
    "```\n",
    "\n",
    "</details>\n"
   ]
  },
  {
   "cell_type": "markdown",
   "metadata": {},
   "source": [
    "<details>\n",
    "<summary>Click here to view/hide solution</summary>\n",
    "<p>\n",
    "\n",
    "```\n",
    "dsn_driver <- \"{IBM DB2 ODBC Driver}\"\n",
    "dsn_database <- \"bludb\"            # e.g. \"bludb\"\n",
    "dsn_hostname <- \"<Enter Hostname>\" # e.g \"54a2f15b-5c0f-46df-8954-.databases.appdomain.cloud\"\n",
    "dsn_port <- \"<Enter port number\"   # e.g. \"32733\" \n",
    "dsn_protocol <- \"TCPIP\"            # i.e. \"TCPIP\"\n",
    "dsn_uid <- \"<Enter UserID>\"        # e.g. \"zjh17769\"\n",
    "dsn_pwd <- \"<Enter Password>\"      # e.g. \"zcwd4+8gbq9bm5k4\"  \n",
    "dsn_security <- \"ssl\"\n",
    "```\n",
    "\n",
    "</details>\n"
   ]
  },
  {
   "cell_type": "markdown",
   "metadata": {},
   "source": [
    "<a id=\"ref6e\"></a>\n",
    "\n",
    "<h3>e. Create a database connection</h3>\n"
   ]
  },
  {
   "cell_type": "markdown",
   "metadata": {},
   "source": [
    "Create a connection string and connect:\n"
   ]
  },
  {
   "cell_type": "code",
   "execution_count": 3,
   "metadata": {
    "collapsed": false,
    "jupyter": {
     "outputs_hidden": false
    }
   },
   "outputs": [
    {
     "data": {
      "text/plain": [
       "RODBC Connection 1\n",
       "Details:\n",
       "  case=nochange\n",
       "  DRIVER={IBM DB2 ODBC DRIVER}\n",
       "  UID=gmx74666\n",
       "  PWD=******\n",
       "  DATABASE=bludb\n",
       "  HOSTNAME=55fbc997-9266-4331-afd3-888b05e734c0.bs2io90l08kqb1od8lcg.databases.appdomain.cloud\n",
       "  PORT=31929\n",
       "  PROTOCOL=TCPIP\n",
       "  SECURITY=SSL"
      ]
     },
     "metadata": {},
     "output_type": "display_data"
    }
   ],
   "source": [
    "conn_path <- paste(\"DRIVER=\",dsn_driver,\n",
    "                  \";DATABASE=\",dsn_database,\n",
    "                  \";HOSTNAME=\",dsn_hostname,\n",
    "                  \";PORT=\",dsn_port,\n",
    "                  \";PROTOCOL=\",dsn_protocol,\n",
    "                  \";UID=\",dsn_uid,\n",
    "                  \";PWD=\",dsn_pwd,\n",
    "                  \";SECURITY=\",dsn_security,        \n",
    "                    sep=\"\")\n",
    "conn <- odbcDriverConnect(conn_path)\n",
    "conn"
   ]
  },
  {
   "cell_type": "markdown",
   "metadata": {},
   "source": [
    "<details>\n",
    "<summary>Click here to view/hide hint</summary>\n",
    "<p>\n",
    "\n",
    "```\n",
    "# Fill in the ...\n",
    "conn_path <- paste(\"DRIVER=\",...\n",
    "                  \";DATABASE=\",...\n",
    "                  \";HOSTNAME=\",...\n",
    "                  \";PORT=\",...\n",
    "                  \";PROTOCOL=\",...\n",
    "                  \";UID=\",...\n",
    "                  \";PWD=\",...\"\n",
    "                  \";SECURITY=\",...\")\n",
    "conn <- ...(...)\n",
    "```\n",
    "\n",
    "</details>\n"
   ]
  },
  {
   "cell_type": "markdown",
   "metadata": {},
   "source": [
    "<details>\n",
    "<summary>Click here to view/hide solution</summary>\n",
    "<p>\n",
    "\n",
    "```\n",
    "conn_path <- paste(\"DRIVER=\",dsn_driver,\n",
    "                  \";DATABASE=\",dsn_database,\n",
    "                  \";HOSTNAME=\",dsn_hostname,\n",
    "                  \";PORT=\",dsn_port,\n",
    "                  \";PROTOCOL=\",dsn_protocol,\n",
    "                  \";UID=\",dsn_uid,\n",
    "                  \";PWD=\",dsn_pwd,\n",
    "                  \";SECURITY=\",dsn_security,        \n",
    "                    sep=\"\")\n",
    "conn <- odbcDriverConnect(conn_path)\n",
    "conn\n",
    "```\n",
    "\n",
    "</div>\n"
   ]
  },
  {
   "cell_type": "markdown",
   "metadata": {},
   "source": [
    "<a id=\"ref6f\"></a>\n",
    "\n",
    "<h3>f. Connection Attributes</h3>\n"
   ]
  },
  {
   "cell_type": "markdown",
   "metadata": {},
   "source": [
    "Let’s examine the connection attributes:\n"
   ]
  },
  {
   "cell_type": "code",
   "execution_count": 4,
   "metadata": {},
   "outputs": [
    {
     "data": {
      "text/plain": [
       "$connection.string\n",
       "[1] \"DRIVER={IBM DB2 ODBC DRIVER};UID=gmx74666;PWD=******;DATABASE=bludb;HOSTNAME=55fbc997-9266-4331-afd3-888b05e734c0.bs2io90l08kqb1od8lcg.databases.appdomain.cloud;PORT=31929;PROTOCOL=TCPIP;SECURITY=SSL;\"\n",
       "\n",
       "$handle_ptr\n",
       "<pointer: 0x555aacf50f40>\n",
       "\n",
       "$class\n",
       "[1] \"RODBC\"\n",
       "\n",
       "$case\n",
       "[1] \"nochange\"\n",
       "\n",
       "$id\n",
       "[1] 29434\n",
       "\n",
       "$believeNRows\n",
       "[1] TRUE\n",
       "\n",
       "$colQuote\n",
       "[1] \"\\\"\"\n",
       "\n",
       "$tabQuote\n",
       "[1] \"\\\"\"\n",
       "\n",
       "$interpretDot\n",
       "[1] TRUE\n",
       "\n",
       "$encoding\n",
       "[1] \"\"\n",
       "\n",
       "$rows_at_time\n",
       "[1] 100\n",
       "\n",
       "$isMySQL\n",
       "[1] FALSE\n",
       "\n",
       "$call\n",
       "odbcDriverConnect(connection = \"DRIVER={IBM DB2 ODBC Driver};DATABASE=bludb;HOSTNAME=55fbc997-9266-4331-afd3-888b05e734c0.bs2io90l08kqb1od8lcg.databases.appdomain.cloud;PORT=31929;PROTOCOL=TCPIP;UID=gmx74666;PWD=******;SECURITY=ssl\")\n"
      ]
     },
     "metadata": {},
     "output_type": "display_data"
    }
   ],
   "source": [
    "attributes(conn)"
   ]
  },
  {
   "cell_type": "markdown",
   "metadata": {},
   "source": [
    "<details>\n",
    "<summary>Click here to view/hide hint</summary>\n",
    "<p>\n",
    "\n",
    "```\n",
    "# Fill in the ...\n",
    "...(conn)\n",
    "```\n",
    "\n",
    "</details>\n"
   ]
  },
  {
   "cell_type": "markdown",
   "metadata": {},
   "source": [
    "<details>\n",
    "<summary>Click here to view/hide solution</summary>\n",
    "<p>\n",
    "\n",
    "```\n",
    "attributes(conn)\n",
    "```\n",
    "\n",
    "</details>\n"
   ]
  },
  {
   "cell_type": "markdown",
   "metadata": {},
   "source": [
    "<a id=\"ref6g\"></a>\n",
    "\n",
    "<h3>g. Connection Metadata</h3>\n"
   ]
  },
  {
   "cell_type": "markdown",
   "metadata": {},
   "source": [
    "And review the connection metadata using  the odbcGetInfo() function:\n"
   ]
  },
  {
   "cell_type": "code",
   "execution_count": 7,
   "metadata": {},
   "outputs": [],
   "source": [
    "conn.info <- odbcGetInfo(conn)"
   ]
  },
  {
   "cell_type": "markdown",
   "metadata": {},
   "source": [
    "<details>\n",
    "<summary>Click here to view/hide hint</summary>\n",
    "<p>\n",
    "\n",
    "```\n",
    "conn.... <- odbc...(conn) \n",
    "```\n",
    "\n",
    "</details>\n"
   ]
  },
  {
   "cell_type": "markdown",
   "metadata": {},
   "source": [
    "<details>\n",
    "<summary>Click here to view/hide solution</summary>\n",
    "<p>\n",
    "\n",
    "```\n",
    "conn.info <- odbcGetInfo(conn) \n",
    "```\n",
    "\n",
    "</details>\n"
   ]
  },
  {
   "cell_type": "code",
   "execution_count": 8,
   "metadata": {},
   "outputs": [
    {
     "data": {
      "text/html": [
       "<strong>DBMS_Name:</strong> 'DB2/LINUXX8664'"
      ],
      "text/latex": [
       "\\textbf{DBMS\\textbackslash{}\\_Name:} 'DB2/LINUXX8664'"
      ],
      "text/markdown": [
       "**DBMS_Name:** 'DB2/LINUXX8664'"
      ],
      "text/plain": [
       "       DBMS_Name \n",
       "\"DB2/LINUXX8664\" "
      ]
     },
     "metadata": {},
     "output_type": "display_data"
    },
    {
     "data": {
      "text/html": [
       "<strong>DBMS_Ver:</strong> '11.05.0600'"
      ],
      "text/latex": [
       "\\textbf{DBMS\\textbackslash{}\\_Ver:} '11.05.0600'"
      ],
      "text/markdown": [
       "**DBMS_Ver:** '11.05.0600'"
      ],
      "text/plain": [
       "    DBMS_Ver \n",
       "\"11.05.0600\" "
      ]
     },
     "metadata": {},
     "output_type": "display_data"
    },
    {
     "data": {
      "text/html": [
       "<strong>Driver_ODBC_Ver:</strong> '03.51'"
      ],
      "text/latex": [
       "\\textbf{Driver\\textbackslash{}\\_ODBC\\textbackslash{}\\_Ver:} '03.51'"
      ],
      "text/markdown": [
       "**Driver_ODBC_Ver:** '03.51'"
      ],
      "text/plain": [
       "Driver_ODBC_Ver \n",
       "        \"03.51\" "
      ]
     },
     "metadata": {},
     "output_type": "display_data"
    }
   ],
   "source": [
    "conn.info[\"DBMS_Name\"]\n",
    "conn.info[\"DBMS_Ver\"]\n",
    "conn.info['Driver_ODBC_Ver']"
   ]
  },
  {
   "cell_type": "markdown",
   "metadata": {},
   "source": [
    "<details>\n",
    "<summary>Click here to view/hide hint</summary>\n",
    "<p>\n",
    "\n",
    "```\n",
    "# Fill in the ...\n",
    "conn....[\"DBMS_...\"]\n",
    "conn....[\"DBMS_...\"] \n",
    "conn....[\"Driver_..._...\"]\n",
    "```\n",
    "\n",
    "</details>\n"
   ]
  },
  {
   "cell_type": "markdown",
   "metadata": {},
   "source": [
    "<details>\n",
    "<summary>Click here to view/hide solution</summary>\n",
    "<p>\n",
    "\n",
    "```\n",
    "conn.info[\"DBMS_Name\"]\n",
    "conn.info[\"DBMS_Ver\"] \n",
    "conn.info[\"Driver_ODBC_Ver\"]\n",
    "```\n",
    "\n",
    "</details>\n"
   ]
  },
  {
   "cell_type": "markdown",
   "metadata": {},
   "source": [
    "<a id=\"ref6h\"></a>\n",
    "\n",
    "<h3>h. Supported Datatypes</h3>\n"
   ]
  },
  {
   "cell_type": "markdown",
   "metadata": {},
   "source": [
    "Let’s now examine the datatypes supported by the database:\n"
   ]
  },
  {
   "cell_type": "code",
   "execution_count": 9,
   "metadata": {},
   "outputs": [
    {
     "name": "stdout",
     "output_type": "stream",
     "text": [
      "                 TYPE_NAME COLUMN_SIZE\n",
      "                       XML           0\n",
      "                  DECFLOAT          34\n",
      "                      CLOB  2147483647\n",
      "                      BLOB  2147483647\n",
      " LONG VARCHAR FOR BIT DATA       32700\n",
      "                 VARBINARY       32672\n",
      "                    BINARY         255\n",
      "              LONG VARCHAR       32700\n",
      "                      CHAR         255\n",
      "                   NUMERIC          31\n",
      "                   DECIMAL          31\n",
      "                   INTEGER          10\n",
      "                  SMALLINT           5\n",
      "                     FLOAT          53\n",
      "                      REAL          24\n",
      "                    DOUBLE          53\n",
      "                   VARCHAR       32672\n",
      "                      DATE          10\n",
      "                      TIME           8\n",
      "                 TIMESTAMP          32\n",
      "                VARGRAPHIC       16336\n",
      "                   GRAPHIC         127\n",
      "           LONG VARGRAPHIC       16350\n",
      "                    DBCLOB  1073741823\n",
      "                    BIGINT          19\n",
      "                   BOOLEAN           1\n"
     ]
    }
   ],
   "source": [
    "data.types <- sqlTypeInfo(conn)\n",
    "print(data.types[c(1,3)], row.names=FALSE)"
   ]
  },
  {
   "cell_type": "markdown",
   "metadata": {},
   "source": [
    "<details>\n",
    "<summary>Click here to view/hide hint</summary>\n",
    "<p>\n",
    "\n",
    "```\n",
    "# Fill in the ...\n",
    "sql.... <- sql...(conn)\n",
    "print(sql....[c(1,...)], row....=FALSE) \n",
    "```\n",
    "\n",
    "</details>\n"
   ]
  },
  {
   "cell_type": "markdown",
   "metadata": {},
   "source": [
    "<details>\n",
    "<summary>Click here to view/hide solution</summary>\n",
    "<p>\n",
    "\n",
    "```\n",
    "sql.info <- sqlTypeInfo(conn)\n",
    "print(sql.info[c(1,3)], row.names=FALSE) \n",
    "```\n",
    "\n",
    "</details>\n"
   ]
  },
  {
   "cell_type": "markdown",
   "metadata": {},
   "source": [
    "<a id=\"ref6i\"></a>\n",
    "\n",
    "<h3>i. List of Tables</h3>\n"
   ]
  },
  {
   "cell_type": "markdown",
   "metadata": {},
   "source": [
    "We will use the sqlTables() function to return a dataframe with information about table-like objects (i.e. TABLEs, VIEWs, ALIASes, etc.) in the Db2 system Schema **SYSIBM**. First we will output the number of tables in the schema, and then display their names.\n"
   ]
  },
  {
   "cell_type": "code",
   "execution_count": 10,
   "metadata": {},
   "outputs": [
    {
     "data": {
      "text/html": [
       "9"
      ],
      "text/latex": [
       "9"
      ],
      "text/markdown": [
       "9"
      ],
      "text/plain": [
       "[1] 9"
      ]
     },
     "metadata": {},
     "output_type": "display_data"
    },
    {
     "data": {
      "text/html": [
       "<dl>\n",
       "\t<dt>$names</dt>\n",
       "\t\t<dd><style>\n",
       ".list-inline {list-style: none; margin:0; padding: 0}\n",
       ".list-inline>li {display: inline-block}\n",
       ".list-inline>li:not(:last-child)::after {content: \"\\00b7\"; padding: 0 .5ex}\n",
       "</style>\n",
       "<ol class=list-inline><li>'TABLE_CAT'</li><li>'TABLE_SCHEM'</li><li>'TABLE_NAME'</li><li>'TABLE_TYPE'</li><li>'REMARKS'</li></ol>\n",
       "</dd>\n",
       "\t<dt>$row.names</dt>\n",
       "\t\t<dd><style>\n",
       ".list-inline {list-style: none; margin:0; padding: 0}\n",
       ".list-inline>li {display: inline-block}\n",
       ".list-inline>li:not(:last-child)::after {content: \"\\00b7\"; padding: 0 .5ex}\n",
       "</style>\n",
       "<ol class=list-inline><li>1</li><li>2</li><li>3</li><li>4</li><li>5</li><li>6</li><li>7</li><li>8</li><li>9</li></ol>\n",
       "</dd>\n",
       "\t<dt>$class</dt>\n",
       "\t\t<dd>'data.frame'</dd>\n",
       "</dl>\n"
      ],
      "text/latex": [
       "\\begin{description}\n",
       "\\item[\\$names] \\begin{enumerate*}\n",
       "\\item 'TABLE\\_CAT'\n",
       "\\item 'TABLE\\_SCHEM'\n",
       "\\item 'TABLE\\_NAME'\n",
       "\\item 'TABLE\\_TYPE'\n",
       "\\item 'REMARKS'\n",
       "\\end{enumerate*}\n",
       "\n",
       "\\item[\\$row.names] \\begin{enumerate*}\n",
       "\\item 1\n",
       "\\item 2\n",
       "\\item 3\n",
       "\\item 4\n",
       "\\item 5\n",
       "\\item 6\n",
       "\\item 7\n",
       "\\item 8\n",
       "\\item 9\n",
       "\\end{enumerate*}\n",
       "\n",
       "\\item[\\$class] 'data.frame'\n",
       "\\end{description}\n"
      ],
      "text/markdown": [
       "$names\n",
       ":   1. 'TABLE_CAT'\n",
       "2. 'TABLE_SCHEM'\n",
       "3. 'TABLE_NAME'\n",
       "4. 'TABLE_TYPE'\n",
       "5. 'REMARKS'\n",
       "\n",
       "\n",
       "\n",
       "$row.names\n",
       ":   1. 1\n",
       "2. 2\n",
       "3. 3\n",
       "4. 4\n",
       "5. 5\n",
       "6. 6\n",
       "7. 7\n",
       "8. 8\n",
       "9. 9\n",
       "\n",
       "\n",
       "\n",
       "$class\n",
       ":   'data.frame'\n",
       "\n",
       "\n"
      ],
      "text/plain": [
       "$names\n",
       "[1] \"TABLE_CAT\"   \"TABLE_SCHEM\" \"TABLE_NAME\"  \"TABLE_TYPE\"  \"REMARKS\"    \n",
       "\n",
       "$row.names\n",
       "[1] 1 2 3 4 5 6 7 8 9\n",
       "\n",
       "$class\n",
       "[1] \"data.frame\"\n"
      ]
     },
     "metadata": {},
     "output_type": "display_data"
    },
    {
     "data": {
      "text/html": [
       "<style>\n",
       ".list-inline {list-style: none; margin:0; padding: 0}\n",
       ".list-inline>li {display: inline-block}\n",
       ".list-inline>li:not(:last-child)::after {content: \"\\00b7\"; padding: 0 .5ex}\n",
       "</style>\n",
       "<ol class=list-inline><li>'BOARD'</li><li>'DEPARTMENTS'</li><li>'EMPLOYEES'</li><li>'JOBS'</li><li>'JOB_HISTORY'</li><li>'LOCATIONS'</li><li>'PETRESCUE'</li><li>'PETSALE'</li><li>'SCHOOL'</li></ol>\n"
      ],
      "text/latex": [
       "\\begin{enumerate*}\n",
       "\\item 'BOARD'\n",
       "\\item 'DEPARTMENTS'\n",
       "\\item 'EMPLOYEES'\n",
       "\\item 'JOBS'\n",
       "\\item 'JOB\\_HISTORY'\n",
       "\\item 'LOCATIONS'\n",
       "\\item 'PETRESCUE'\n",
       "\\item 'PETSALE'\n",
       "\\item 'SCHOOL'\n",
       "\\end{enumerate*}\n"
      ],
      "text/markdown": [
       "1. 'BOARD'\n",
       "2. 'DEPARTMENTS'\n",
       "3. 'EMPLOYEES'\n",
       "4. 'JOBS'\n",
       "5. 'JOB_HISTORY'\n",
       "6. 'LOCATIONS'\n",
       "7. 'PETRESCUE'\n",
       "8. 'PETSALE'\n",
       "9. 'SCHOOL'\n",
       "\n",
       "\n"
      ],
      "text/plain": [
       "[1] \"BOARD\"       \"DEPARTMENTS\" \"EMPLOYEES\"   \"JOBS\"        \"JOB_HISTORY\"\n",
       "[6] \"LOCATIONS\"   \"PETRESCUE\"   \"PETSALE\"     \"SCHOOL\"     "
      ]
     },
     "metadata": {},
     "output_type": "display_data"
    },
    {
     "data": {
      "text/html": [
       "<table>\n",
       "<caption>A data.frame: 9 × 5</caption>\n",
       "<thead>\n",
       "\t<tr><th></th><th scope=col>TABLE_CAT</th><th scope=col>TABLE_SCHEM</th><th scope=col>TABLE_NAME</th><th scope=col>TABLE_TYPE</th><th scope=col>REMARKS</th></tr>\n",
       "\t<tr><th></th><th scope=col>&lt;chr&gt;</th><th scope=col>&lt;chr&gt;</th><th scope=col>&lt;chr&gt;</th><th scope=col>&lt;chr&gt;</th><th scope=col>&lt;chr&gt;</th></tr>\n",
       "</thead>\n",
       "<tbody>\n",
       "\t<tr><th scope=row>1</th><td></td><td>GMX74666</td><td>BOARD      </td><td>TABLE</td><td></td></tr>\n",
       "\t<tr><th scope=row>2</th><td></td><td>GMX74666</td><td>DEPARTMENTS</td><td>TABLE</td><td></td></tr>\n",
       "\t<tr><th scope=row>3</th><td></td><td>GMX74666</td><td>EMPLOYEES  </td><td>TABLE</td><td></td></tr>\n",
       "\t<tr><th scope=row>4</th><td></td><td>GMX74666</td><td>JOBS       </td><td>TABLE</td><td></td></tr>\n",
       "\t<tr><th scope=row>5</th><td></td><td>GMX74666</td><td>JOB_HISTORY</td><td>TABLE</td><td></td></tr>\n",
       "\t<tr><th scope=row>6</th><td></td><td>GMX74666</td><td>LOCATIONS  </td><td>TABLE</td><td></td></tr>\n",
       "\t<tr><th scope=row>7</th><td></td><td>GMX74666</td><td>PETRESCUE  </td><td>TABLE</td><td></td></tr>\n",
       "\t<tr><th scope=row>8</th><td></td><td>GMX74666</td><td>PETSALE    </td><td>TABLE</td><td></td></tr>\n",
       "\t<tr><th scope=row>9</th><td></td><td>GMX74666</td><td>SCHOOL     </td><td>TABLE</td><td></td></tr>\n",
       "</tbody>\n",
       "</table>\n"
      ],
      "text/latex": [
       "A data.frame: 9 × 5\n",
       "\\begin{tabular}{r|lllll}\n",
       "  & TABLE\\_CAT & TABLE\\_SCHEM & TABLE\\_NAME & TABLE\\_TYPE & REMARKS\\\\\n",
       "  & <chr> & <chr> & <chr> & <chr> & <chr>\\\\\n",
       "\\hline\n",
       "\t1 &  & GMX74666 & BOARD       & TABLE & \\\\\n",
       "\t2 &  & GMX74666 & DEPARTMENTS & TABLE & \\\\\n",
       "\t3 &  & GMX74666 & EMPLOYEES   & TABLE & \\\\\n",
       "\t4 &  & GMX74666 & JOBS        & TABLE & \\\\\n",
       "\t5 &  & GMX74666 & JOB\\_HISTORY & TABLE & \\\\\n",
       "\t6 &  & GMX74666 & LOCATIONS   & TABLE & \\\\\n",
       "\t7 &  & GMX74666 & PETRESCUE   & TABLE & \\\\\n",
       "\t8 &  & GMX74666 & PETSALE     & TABLE & \\\\\n",
       "\t9 &  & GMX74666 & SCHOOL      & TABLE & \\\\\n",
       "\\end{tabular}\n"
      ],
      "text/markdown": [
       "\n",
       "A data.frame: 9 × 5\n",
       "\n",
       "| <!--/--> | TABLE_CAT &lt;chr&gt; | TABLE_SCHEM &lt;chr&gt; | TABLE_NAME &lt;chr&gt; | TABLE_TYPE &lt;chr&gt; | REMARKS &lt;chr&gt; |\n",
       "|---|---|---|---|---|---|\n",
       "| 1 | <!----> | GMX74666 | BOARD       | TABLE | <!----> |\n",
       "| 2 | <!----> | GMX74666 | DEPARTMENTS | TABLE | <!----> |\n",
       "| 3 | <!----> | GMX74666 | EMPLOYEES   | TABLE | <!----> |\n",
       "| 4 | <!----> | GMX74666 | JOBS        | TABLE | <!----> |\n",
       "| 5 | <!----> | GMX74666 | JOB_HISTORY | TABLE | <!----> |\n",
       "| 6 | <!----> | GMX74666 | LOCATIONS   | TABLE | <!----> |\n",
       "| 7 | <!----> | GMX74666 | PETRESCUE   | TABLE | <!----> |\n",
       "| 8 | <!----> | GMX74666 | PETSALE     | TABLE | <!----> |\n",
       "| 9 | <!----> | GMX74666 | SCHOOL      | TABLE | <!----> |\n",
       "\n"
      ],
      "text/plain": [
       "  TABLE_CAT TABLE_SCHEM TABLE_NAME  TABLE_TYPE REMARKS\n",
       "1           GMX74666    BOARD       TABLE             \n",
       "2           GMX74666    DEPARTMENTS TABLE             \n",
       "3           GMX74666    EMPLOYEES   TABLE             \n",
       "4           GMX74666    JOBS        TABLE             \n",
       "5           GMX74666    JOB_HISTORY TABLE             \n",
       "6           GMX74666    LOCATIONS   TABLE             \n",
       "7           GMX74666    PETRESCUE   TABLE             \n",
       "8           GMX74666    PETSALE     TABLE             \n",
       "9           GMX74666    SCHOOL      TABLE             "
      ]
     },
     "metadata": {},
     "output_type": "display_data"
    }
   ],
   "source": [
    "tables <- sqlTables(conn, schema=toupper(dsn_uid))\n",
    "nrow(tables)\n",
    "attributes(tables)\n",
    "tables$TABLE_NAME\n",
    "tables"
   ]
  },
  {
   "cell_type": "markdown",
   "metadata": {},
   "source": [
    "<details>\n",
    "<summary>Click here to view/hide hint</summary>\n",
    "<p>\n",
    "\n",
    "```\n",
    "# Fill in the ...\n",
    "tab.... <- sql...(conn, ...=\"<Enter Schema>\")\n",
    "nrow(tab....)\n",
    "tab.frame$...\n",
    "```\n",
    "\n",
    "</details>\n"
   ]
  },
  {
   "cell_type": "markdown",
   "metadata": {},
   "source": [
    "<details>\n",
    "<summary>Click here to view/hide solution</summary>\n",
    "<p>\n",
    "\n",
    "```\n",
    "tab.frame <- sqlTables(conn, schema=\"<Enter Schema>\") # e.g. \"SYSIBM\"\n",
    "nrow(tab.frame)\n",
    "tab.frame$TABLE_NAME\n",
    "```\n",
    "\n",
    "</details>\n"
   ]
  },
  {
   "cell_type": "markdown",
   "metadata": {},
   "source": [
    "<a id=\"ref6j\"></a>\n",
    "\n",
    "<h3>j. Columns in a Table</h3>\n"
   ]
  },
  {
   "cell_type": "markdown",
   "metadata": {},
   "source": [
    "Next, let’s look at column metadata for columns in the system catalog table **SYSSCHEMATA**:\n"
   ]
  },
  {
   "cell_type": "code",
   "execution_count": 15,
   "metadata": {},
   "outputs": [
    {
     "data": {
      "text/html": [
       "<dl>\n",
       "\t<dt>$names</dt>\n",
       "\t\t<dd><style>\n",
       ".list-inline {list-style: none; margin:0; padding: 0}\n",
       ".list-inline>li {display: inline-block}\n",
       ".list-inline>li:not(:last-child)::after {content: \"\\00b7\"; padding: 0 .5ex}\n",
       "</style>\n",
       "<ol class=list-inline><li>'TABLE_CAT'</li><li>'TABLE_SCHEM'</li><li>'TABLE_NAME'</li><li>'COLUMN_NAME'</li><li>'DATA_TYPE'</li><li>'TYPE_NAME'</li><li>'COLUMN_SIZE'</li><li>'BUFFER_LENGTH'</li><li>'DECIMAL_DIGITS'</li><li>'NUM_PREC_RADIX'</li><li>'NULLABLE'</li><li>'REMARKS'</li><li>'COLUMN_DEF'</li><li>'SQL_DATA_TYPE'</li><li>'SQL_DATETIME_SUB'</li><li>'CHAR_OCTET_LENGTH'</li><li>'ORDINAL_POSITION'</li><li>'IS_NULLABLE'</li></ol>\n",
       "</dd>\n",
       "\t<dt>$row.names</dt>\n",
       "\t\t<dd><style>\n",
       ".list-inline {list-style: none; margin:0; padding: 0}\n",
       ".list-inline>li {display: inline-block}\n",
       ".list-inline>li:not(:last-child)::after {content: \"\\00b7\"; padding: 0 .5ex}\n",
       "</style>\n",
       "<ol class=list-inline><li>1</li><li>2</li><li>3</li><li>4</li><li>5</li><li>6</li><li>7</li><li>8</li><li>9</li><li>10</li></ol>\n",
       "</dd>\n",
       "\t<dt>$class</dt>\n",
       "\t\t<dd>'data.frame'</dd>\n",
       "</dl>\n"
      ],
      "text/latex": [
       "\\begin{description}\n",
       "\\item[\\$names] \\begin{enumerate*}\n",
       "\\item 'TABLE\\_CAT'\n",
       "\\item 'TABLE\\_SCHEM'\n",
       "\\item 'TABLE\\_NAME'\n",
       "\\item 'COLUMN\\_NAME'\n",
       "\\item 'DATA\\_TYPE'\n",
       "\\item 'TYPE\\_NAME'\n",
       "\\item 'COLUMN\\_SIZE'\n",
       "\\item 'BUFFER\\_LENGTH'\n",
       "\\item 'DECIMAL\\_DIGITS'\n",
       "\\item 'NUM\\_PREC\\_RADIX'\n",
       "\\item 'NULLABLE'\n",
       "\\item 'REMARKS'\n",
       "\\item 'COLUMN\\_DEF'\n",
       "\\item 'SQL\\_DATA\\_TYPE'\n",
       "\\item 'SQL\\_DATETIME\\_SUB'\n",
       "\\item 'CHAR\\_OCTET\\_LENGTH'\n",
       "\\item 'ORDINAL\\_POSITION'\n",
       "\\item 'IS\\_NULLABLE'\n",
       "\\end{enumerate*}\n",
       "\n",
       "\\item[\\$row.names] \\begin{enumerate*}\n",
       "\\item 1\n",
       "\\item 2\n",
       "\\item 3\n",
       "\\item 4\n",
       "\\item 5\n",
       "\\item 6\n",
       "\\item 7\n",
       "\\item 8\n",
       "\\item 9\n",
       "\\item 10\n",
       "\\end{enumerate*}\n",
       "\n",
       "\\item[\\$class] 'data.frame'\n",
       "\\end{description}\n"
      ],
      "text/markdown": [
       "$names\n",
       ":   1. 'TABLE_CAT'\n",
       "2. 'TABLE_SCHEM'\n",
       "3. 'TABLE_NAME'\n",
       "4. 'COLUMN_NAME'\n",
       "5. 'DATA_TYPE'\n",
       "6. 'TYPE_NAME'\n",
       "7. 'COLUMN_SIZE'\n",
       "8. 'BUFFER_LENGTH'\n",
       "9. 'DECIMAL_DIGITS'\n",
       "10. 'NUM_PREC_RADIX'\n",
       "11. 'NULLABLE'\n",
       "12. 'REMARKS'\n",
       "13. 'COLUMN_DEF'\n",
       "14. 'SQL_DATA_TYPE'\n",
       "15. 'SQL_DATETIME_SUB'\n",
       "16. 'CHAR_OCTET_LENGTH'\n",
       "17. 'ORDINAL_POSITION'\n",
       "18. 'IS_NULLABLE'\n",
       "\n",
       "\n",
       "\n",
       "$row.names\n",
       ":   1. 1\n",
       "2. 2\n",
       "3. 3\n",
       "4. 4\n",
       "5. 5\n",
       "6. 6\n",
       "7. 7\n",
       "8. 8\n",
       "9. 9\n",
       "10. 10\n",
       "\n",
       "\n",
       "\n",
       "$class\n",
       ":   'data.frame'\n",
       "\n",
       "\n"
      ],
      "text/plain": [
       "$names\n",
       " [1] \"TABLE_CAT\"         \"TABLE_SCHEM\"       \"TABLE_NAME\"       \n",
       " [4] \"COLUMN_NAME\"       \"DATA_TYPE\"         \"TYPE_NAME\"        \n",
       " [7] \"COLUMN_SIZE\"       \"BUFFER_LENGTH\"     \"DECIMAL_DIGITS\"   \n",
       "[10] \"NUM_PREC_RADIX\"    \"NULLABLE\"          \"REMARKS\"          \n",
       "[13] \"COLUMN_DEF\"        \"SQL_DATA_TYPE\"     \"SQL_DATETIME_SUB\" \n",
       "[16] \"CHAR_OCTET_LENGTH\" \"ORDINAL_POSITION\"  \"IS_NULLABLE\"      \n",
       "\n",
       "$row.names\n",
       " [1]  1  2  3  4  5  6  7  8  9 10\n",
       "\n",
       "$class\n",
       "[1] \"data.frame\"\n"
      ]
     },
     "metadata": {},
     "output_type": "display_data"
    },
    {
     "data": {
      "text/html": [
       "<table>\n",
       "<caption>A data.frame: 4 × 18</caption>\n",
       "<thead>\n",
       "\t<tr><th></th><th scope=col>TABLE_CAT</th><th scope=col>TABLE_SCHEM</th><th scope=col>TABLE_NAME</th><th scope=col>COLUMN_NAME</th><th scope=col>DATA_TYPE</th><th scope=col>TYPE_NAME</th><th scope=col>COLUMN_SIZE</th><th scope=col>BUFFER_LENGTH</th><th scope=col>DECIMAL_DIGITS</th><th scope=col>NUM_PREC_RADIX</th><th scope=col>NULLABLE</th><th scope=col>REMARKS</th><th scope=col>COLUMN_DEF</th><th scope=col>SQL_DATA_TYPE</th><th scope=col>SQL_DATETIME_SUB</th><th scope=col>CHAR_OCTET_LENGTH</th><th scope=col>ORDINAL_POSITION</th><th scope=col>IS_NULLABLE</th></tr>\n",
       "\t<tr><th></th><th scope=col>&lt;chr&gt;</th><th scope=col>&lt;chr&gt;</th><th scope=col>&lt;chr&gt;</th><th scope=col>&lt;chr&gt;</th><th scope=col>&lt;int&gt;</th><th scope=col>&lt;chr&gt;</th><th scope=col>&lt;int&gt;</th><th scope=col>&lt;int&gt;</th><th scope=col>&lt;int&gt;</th><th scope=col>&lt;int&gt;</th><th scope=col>&lt;int&gt;</th><th scope=col>&lt;chr&gt;</th><th scope=col>&lt;chr&gt;</th><th scope=col>&lt;int&gt;</th><th scope=col>&lt;int&gt;</th><th scope=col>&lt;int&gt;</th><th scope=col>&lt;int&gt;</th><th scope=col>&lt;chr&gt;</th></tr>\n",
       "</thead>\n",
       "<tbody>\n",
       "\t<tr><th scope=row>1</th><td></td><td>GMX74666</td><td>DEPARTMENTS</td><td>DEPT_ID_DEP</td><td> 1</td><td>CHAR   </td><td> 9</td><td> 9</td><td>0</td><td>0</td><td>0</td><td></td><td></td><td> 1</td><td>0</td><td> 9</td><td>1</td><td>NO </td></tr>\n",
       "\t<tr><th scope=row>2</th><td></td><td>GMX74666</td><td>DEPARTMENTS</td><td>DEP_NAME   </td><td>12</td><td>VARCHAR</td><td>15</td><td>15</td><td>0</td><td>0</td><td>1</td><td></td><td></td><td>12</td><td>0</td><td>15</td><td>2</td><td>YES</td></tr>\n",
       "\t<tr><th scope=row>3</th><td></td><td>GMX74666</td><td>DEPARTMENTS</td><td>MANAGER_ID </td><td> 1</td><td>CHAR   </td><td> 9</td><td> 9</td><td>0</td><td>0</td><td>1</td><td></td><td></td><td> 1</td><td>0</td><td> 9</td><td>3</td><td>YES</td></tr>\n",
       "\t<tr><th scope=row>4</th><td></td><td>GMX74666</td><td>DEPARTMENTS</td><td>LOC_ID     </td><td> 1</td><td>CHAR   </td><td> 9</td><td> 9</td><td>0</td><td>0</td><td>1</td><td></td><td></td><td> 1</td><td>0</td><td> 9</td><td>4</td><td>YES</td></tr>\n",
       "</tbody>\n",
       "</table>\n"
      ],
      "text/latex": [
       "A data.frame: 4 × 18\n",
       "\\begin{tabular}{r|llllllllllllllllll}\n",
       "  & TABLE\\_CAT & TABLE\\_SCHEM & TABLE\\_NAME & COLUMN\\_NAME & DATA\\_TYPE & TYPE\\_NAME & COLUMN\\_SIZE & BUFFER\\_LENGTH & DECIMAL\\_DIGITS & NUM\\_PREC\\_RADIX & NULLABLE & REMARKS & COLUMN\\_DEF & SQL\\_DATA\\_TYPE & SQL\\_DATETIME\\_SUB & CHAR\\_OCTET\\_LENGTH & ORDINAL\\_POSITION & IS\\_NULLABLE\\\\\n",
       "  & <chr> & <chr> & <chr> & <chr> & <int> & <chr> & <int> & <int> & <int> & <int> & <int> & <chr> & <chr> & <int> & <int> & <int> & <int> & <chr>\\\\\n",
       "\\hline\n",
       "\t1 &  & GMX74666 & DEPARTMENTS & DEPT\\_ID\\_DEP &  1 & CHAR    &  9 &  9 & 0 & 0 & 0 &  &  &  1 & 0 &  9 & 1 & NO \\\\\n",
       "\t2 &  & GMX74666 & DEPARTMENTS & DEP\\_NAME    & 12 & VARCHAR & 15 & 15 & 0 & 0 & 1 &  &  & 12 & 0 & 15 & 2 & YES\\\\\n",
       "\t3 &  & GMX74666 & DEPARTMENTS & MANAGER\\_ID  &  1 & CHAR    &  9 &  9 & 0 & 0 & 1 &  &  &  1 & 0 &  9 & 3 & YES\\\\\n",
       "\t4 &  & GMX74666 & DEPARTMENTS & LOC\\_ID      &  1 & CHAR    &  9 &  9 & 0 & 0 & 1 &  &  &  1 & 0 &  9 & 4 & YES\\\\\n",
       "\\end{tabular}\n"
      ],
      "text/markdown": [
       "\n",
       "A data.frame: 4 × 18\n",
       "\n",
       "| <!--/--> | TABLE_CAT &lt;chr&gt; | TABLE_SCHEM &lt;chr&gt; | TABLE_NAME &lt;chr&gt; | COLUMN_NAME &lt;chr&gt; | DATA_TYPE &lt;int&gt; | TYPE_NAME &lt;chr&gt; | COLUMN_SIZE &lt;int&gt; | BUFFER_LENGTH &lt;int&gt; | DECIMAL_DIGITS &lt;int&gt; | NUM_PREC_RADIX &lt;int&gt; | NULLABLE &lt;int&gt; | REMARKS &lt;chr&gt; | COLUMN_DEF &lt;chr&gt; | SQL_DATA_TYPE &lt;int&gt; | SQL_DATETIME_SUB &lt;int&gt; | CHAR_OCTET_LENGTH &lt;int&gt; | ORDINAL_POSITION &lt;int&gt; | IS_NULLABLE &lt;chr&gt; |\n",
       "|---|---|---|---|---|---|---|---|---|---|---|---|---|---|---|---|---|---|---|\n",
       "| 1 | <!----> | GMX74666 | DEPARTMENTS | DEPT_ID_DEP |  1 | CHAR    |  9 |  9 | 0 | 0 | 0 | <!----> | <!----> |  1 | 0 |  9 | 1 | NO  |\n",
       "| 2 | <!----> | GMX74666 | DEPARTMENTS | DEP_NAME    | 12 | VARCHAR | 15 | 15 | 0 | 0 | 1 | <!----> | <!----> | 12 | 0 | 15 | 2 | YES |\n",
       "| 3 | <!----> | GMX74666 | DEPARTMENTS | MANAGER_ID  |  1 | CHAR    |  9 |  9 | 0 | 0 | 1 | <!----> | <!----> |  1 | 0 |  9 | 3 | YES |\n",
       "| 4 | <!----> | GMX74666 | DEPARTMENTS | LOC_ID      |  1 | CHAR    |  9 |  9 | 0 | 0 | 1 | <!----> | <!----> |  1 | 0 |  9 | 4 | YES |\n",
       "\n"
      ],
      "text/plain": [
       "  TABLE_CAT TABLE_SCHEM TABLE_NAME  COLUMN_NAME DATA_TYPE TYPE_NAME COLUMN_SIZE\n",
       "1           GMX74666    DEPARTMENTS DEPT_ID_DEP  1        CHAR       9         \n",
       "2           GMX74666    DEPARTMENTS DEP_NAME    12        VARCHAR   15         \n",
       "3           GMX74666    DEPARTMENTS MANAGER_ID   1        CHAR       9         \n",
       "4           GMX74666    DEPARTMENTS LOC_ID       1        CHAR       9         \n",
       "  BUFFER_LENGTH DECIMAL_DIGITS NUM_PREC_RADIX NULLABLE REMARKS COLUMN_DEF\n",
       "1  9            0              0              0                          \n",
       "2 15            0              0              1                          \n",
       "3  9            0              0              1                          \n",
       "4  9            0              0              1                          \n",
       "  SQL_DATA_TYPE SQL_DATETIME_SUB CHAR_OCTET_LENGTH ORDINAL_POSITION IS_NULLABLE\n",
       "1  1            0                 9                1                NO         \n",
       "2 12            0                15                2                YES        \n",
       "3  1            0                 9                3                YES        \n",
       "4  1            0                 9                4                YES        "
      ]
     },
     "metadata": {},
     "output_type": "display_data"
    },
    {
     "data": {
      "text/html": [
       "<table>\n",
       "<caption>A data.frame: 10 × 18</caption>\n",
       "<thead>\n",
       "\t<tr><th></th><th scope=col>TABLE_CAT</th><th scope=col>TABLE_SCHEM</th><th scope=col>TABLE_NAME</th><th scope=col>COLUMN_NAME</th><th scope=col>DATA_TYPE</th><th scope=col>TYPE_NAME</th><th scope=col>COLUMN_SIZE</th><th scope=col>BUFFER_LENGTH</th><th scope=col>DECIMAL_DIGITS</th><th scope=col>NUM_PREC_RADIX</th><th scope=col>NULLABLE</th><th scope=col>REMARKS</th><th scope=col>COLUMN_DEF</th><th scope=col>SQL_DATA_TYPE</th><th scope=col>SQL_DATETIME_SUB</th><th scope=col>CHAR_OCTET_LENGTH</th><th scope=col>ORDINAL_POSITION</th><th scope=col>IS_NULLABLE</th></tr>\n",
       "\t<tr><th></th><th scope=col>&lt;chr&gt;</th><th scope=col>&lt;chr&gt;</th><th scope=col>&lt;chr&gt;</th><th scope=col>&lt;chr&gt;</th><th scope=col>&lt;int&gt;</th><th scope=col>&lt;chr&gt;</th><th scope=col>&lt;int&gt;</th><th scope=col>&lt;int&gt;</th><th scope=col>&lt;int&gt;</th><th scope=col>&lt;int&gt;</th><th scope=col>&lt;int&gt;</th><th scope=col>&lt;chr&gt;</th><th scope=col>&lt;chr&gt;</th><th scope=col>&lt;int&gt;</th><th scope=col>&lt;int&gt;</th><th scope=col>&lt;int&gt;</th><th scope=col>&lt;int&gt;</th><th scope=col>&lt;chr&gt;</th></tr>\n",
       "</thead>\n",
       "<tbody>\n",
       "\t<tr><th scope=row>1</th><td></td><td>SYSIBM</td><td>SYSSCHEMATA</td><td>NAME                 </td><td>12</td><td>VARCHAR  </td><td>128</td><td>128</td><td>0</td><td> 0</td><td>0</td><td></td><td></td><td>12</td><td>0</td><td>128</td><td> 1</td><td>NO </td></tr>\n",
       "\t<tr><th scope=row>2</th><td></td><td>SYSIBM</td><td>SYSSCHEMATA</td><td>OWNER                </td><td>12</td><td>VARCHAR  </td><td>128</td><td>128</td><td>0</td><td> 0</td><td>0</td><td></td><td></td><td>12</td><td>0</td><td>128</td><td> 2</td><td>NO </td></tr>\n",
       "\t<tr><th scope=row>3</th><td></td><td>SYSIBM</td><td>SYSSCHEMATA</td><td>DEFINER              </td><td>12</td><td>VARCHAR  </td><td>128</td><td>128</td><td>0</td><td> 0</td><td>0</td><td></td><td></td><td>12</td><td>0</td><td>128</td><td> 3</td><td>NO </td></tr>\n",
       "\t<tr><th scope=row>4</th><td></td><td>SYSIBM</td><td>SYSSCHEMATA</td><td>CREATE_TIME          </td><td>93</td><td>TIMESTAMP</td><td> 26</td><td> 16</td><td>6</td><td> 0</td><td>0</td><td></td><td></td><td> 9</td><td>3</td><td>128</td><td> 4</td><td>NO </td></tr>\n",
       "\t<tr><th scope=row>5</th><td></td><td>SYSIBM</td><td>SYSSCHEMATA</td><td>REMARKS              </td><td>12</td><td>VARCHAR  </td><td>254</td><td>254</td><td>6</td><td> 0</td><td>1</td><td></td><td></td><td>12</td><td>3</td><td>254</td><td> 5</td><td>YES</td></tr>\n",
       "\t<tr><th scope=row>6</th><td></td><td>SYSIBM</td><td>SYSSCHEMATA</td><td>DEFINERTYPE          </td><td> 1</td><td>CHAR     </td><td>  1</td><td>  1</td><td>6</td><td> 0</td><td>0</td><td></td><td></td><td> 1</td><td>3</td><td>  1</td><td> 6</td><td>NO </td></tr>\n",
       "\t<tr><th scope=row>7</th><td></td><td>SYSIBM</td><td>SYSSCHEMATA</td><td>OWNERTYPE            </td><td> 1</td><td>CHAR     </td><td>  1</td><td>  1</td><td>6</td><td> 0</td><td>0</td><td></td><td></td><td> 1</td><td>3</td><td>  1</td><td> 7</td><td>NO </td></tr>\n",
       "\t<tr><th scope=row>8</th><td></td><td>SYSIBM</td><td>SYSSCHEMATA</td><td>DATACAPTURE          </td><td> 1</td><td>CHAR     </td><td>  1</td><td>  1</td><td>6</td><td> 0</td><td>0</td><td></td><td></td><td> 1</td><td>3</td><td>  1</td><td> 8</td><td>NO </td></tr>\n",
       "\t<tr><th scope=row>9</th><td></td><td>SYSIBM</td><td>SYSSCHEMATA</td><td>AUDITPOLICYID        </td><td> 4</td><td>INTEGER  </td><td> 10</td><td>  4</td><td>0</td><td>10</td><td>1</td><td></td><td></td><td> 4</td><td>3</td><td>  1</td><td> 9</td><td>YES</td></tr>\n",
       "\t<tr><th scope=row>10</th><td></td><td>SYSIBM</td><td>SYSSCHEMATA</td><td>AUDITEXCEPTIONENABLED</td><td> 1</td><td>CHAR     </td><td>  1</td><td>  1</td><td>0</td><td>10</td><td>0</td><td></td><td></td><td> 1</td><td>3</td><td>  1</td><td>10</td><td>NO </td></tr>\n",
       "</tbody>\n",
       "</table>\n"
      ],
      "text/latex": [
       "A data.frame: 10 × 18\n",
       "\\begin{tabular}{r|llllllllllllllllll}\n",
       "  & TABLE\\_CAT & TABLE\\_SCHEM & TABLE\\_NAME & COLUMN\\_NAME & DATA\\_TYPE & TYPE\\_NAME & COLUMN\\_SIZE & BUFFER\\_LENGTH & DECIMAL\\_DIGITS & NUM\\_PREC\\_RADIX & NULLABLE & REMARKS & COLUMN\\_DEF & SQL\\_DATA\\_TYPE & SQL\\_DATETIME\\_SUB & CHAR\\_OCTET\\_LENGTH & ORDINAL\\_POSITION & IS\\_NULLABLE\\\\\n",
       "  & <chr> & <chr> & <chr> & <chr> & <int> & <chr> & <int> & <int> & <int> & <int> & <int> & <chr> & <chr> & <int> & <int> & <int> & <int> & <chr>\\\\\n",
       "\\hline\n",
       "\t1 &  & SYSIBM & SYSSCHEMATA & NAME                  & 12 & VARCHAR   & 128 & 128 & 0 &  0 & 0 &  &  & 12 & 0 & 128 &  1 & NO \\\\\n",
       "\t2 &  & SYSIBM & SYSSCHEMATA & OWNER                 & 12 & VARCHAR   & 128 & 128 & 0 &  0 & 0 &  &  & 12 & 0 & 128 &  2 & NO \\\\\n",
       "\t3 &  & SYSIBM & SYSSCHEMATA & DEFINER               & 12 & VARCHAR   & 128 & 128 & 0 &  0 & 0 &  &  & 12 & 0 & 128 &  3 & NO \\\\\n",
       "\t4 &  & SYSIBM & SYSSCHEMATA & CREATE\\_TIME           & 93 & TIMESTAMP &  26 &  16 & 6 &  0 & 0 &  &  &  9 & 3 & 128 &  4 & NO \\\\\n",
       "\t5 &  & SYSIBM & SYSSCHEMATA & REMARKS               & 12 & VARCHAR   & 254 & 254 & 6 &  0 & 1 &  &  & 12 & 3 & 254 &  5 & YES\\\\\n",
       "\t6 &  & SYSIBM & SYSSCHEMATA & DEFINERTYPE           &  1 & CHAR      &   1 &   1 & 6 &  0 & 0 &  &  &  1 & 3 &   1 &  6 & NO \\\\\n",
       "\t7 &  & SYSIBM & SYSSCHEMATA & OWNERTYPE             &  1 & CHAR      &   1 &   1 & 6 &  0 & 0 &  &  &  1 & 3 &   1 &  7 & NO \\\\\n",
       "\t8 &  & SYSIBM & SYSSCHEMATA & DATACAPTURE           &  1 & CHAR      &   1 &   1 & 6 &  0 & 0 &  &  &  1 & 3 &   1 &  8 & NO \\\\\n",
       "\t9 &  & SYSIBM & SYSSCHEMATA & AUDITPOLICYID         &  4 & INTEGER   &  10 &   4 & 0 & 10 & 1 &  &  &  4 & 3 &   1 &  9 & YES\\\\\n",
       "\t10 &  & SYSIBM & SYSSCHEMATA & AUDITEXCEPTIONENABLED &  1 & CHAR      &   1 &   1 & 0 & 10 & 0 &  &  &  1 & 3 &   1 & 10 & NO \\\\\n",
       "\\end{tabular}\n"
      ],
      "text/markdown": [
       "\n",
       "A data.frame: 10 × 18\n",
       "\n",
       "| <!--/--> | TABLE_CAT &lt;chr&gt; | TABLE_SCHEM &lt;chr&gt; | TABLE_NAME &lt;chr&gt; | COLUMN_NAME &lt;chr&gt; | DATA_TYPE &lt;int&gt; | TYPE_NAME &lt;chr&gt; | COLUMN_SIZE &lt;int&gt; | BUFFER_LENGTH &lt;int&gt; | DECIMAL_DIGITS &lt;int&gt; | NUM_PREC_RADIX &lt;int&gt; | NULLABLE &lt;int&gt; | REMARKS &lt;chr&gt; | COLUMN_DEF &lt;chr&gt; | SQL_DATA_TYPE &lt;int&gt; | SQL_DATETIME_SUB &lt;int&gt; | CHAR_OCTET_LENGTH &lt;int&gt; | ORDINAL_POSITION &lt;int&gt; | IS_NULLABLE &lt;chr&gt; |\n",
       "|---|---|---|---|---|---|---|---|---|---|---|---|---|---|---|---|---|---|---|\n",
       "| 1 | <!----> | SYSIBM | SYSSCHEMATA | NAME                  | 12 | VARCHAR   | 128 | 128 | 0 |  0 | 0 | <!----> | <!----> | 12 | 0 | 128 |  1 | NO  |\n",
       "| 2 | <!----> | SYSIBM | SYSSCHEMATA | OWNER                 | 12 | VARCHAR   | 128 | 128 | 0 |  0 | 0 | <!----> | <!----> | 12 | 0 | 128 |  2 | NO  |\n",
       "| 3 | <!----> | SYSIBM | SYSSCHEMATA | DEFINER               | 12 | VARCHAR   | 128 | 128 | 0 |  0 | 0 | <!----> | <!----> | 12 | 0 | 128 |  3 | NO  |\n",
       "| 4 | <!----> | SYSIBM | SYSSCHEMATA | CREATE_TIME           | 93 | TIMESTAMP |  26 |  16 | 6 |  0 | 0 | <!----> | <!----> |  9 | 3 | 128 |  4 | NO  |\n",
       "| 5 | <!----> | SYSIBM | SYSSCHEMATA | REMARKS               | 12 | VARCHAR   | 254 | 254 | 6 |  0 | 1 | <!----> | <!----> | 12 | 3 | 254 |  5 | YES |\n",
       "| 6 | <!----> | SYSIBM | SYSSCHEMATA | DEFINERTYPE           |  1 | CHAR      |   1 |   1 | 6 |  0 | 0 | <!----> | <!----> |  1 | 3 |   1 |  6 | NO  |\n",
       "| 7 | <!----> | SYSIBM | SYSSCHEMATA | OWNERTYPE             |  1 | CHAR      |   1 |   1 | 6 |  0 | 0 | <!----> | <!----> |  1 | 3 |   1 |  7 | NO  |\n",
       "| 8 | <!----> | SYSIBM | SYSSCHEMATA | DATACAPTURE           |  1 | CHAR      |   1 |   1 | 6 |  0 | 0 | <!----> | <!----> |  1 | 3 |   1 |  8 | NO  |\n",
       "| 9 | <!----> | SYSIBM | SYSSCHEMATA | AUDITPOLICYID         |  4 | INTEGER   |  10 |   4 | 0 | 10 | 1 | <!----> | <!----> |  4 | 3 |   1 |  9 | YES |\n",
       "| 10 | <!----> | SYSIBM | SYSSCHEMATA | AUDITEXCEPTIONENABLED |  1 | CHAR      |   1 |   1 | 0 | 10 | 0 | <!----> | <!----> |  1 | 3 |   1 | 10 | NO  |\n",
       "\n"
      ],
      "text/plain": [
       "   TABLE_CAT TABLE_SCHEM TABLE_NAME  COLUMN_NAME           DATA_TYPE TYPE_NAME\n",
       "1            SYSIBM      SYSSCHEMATA NAME                  12        VARCHAR  \n",
       "2            SYSIBM      SYSSCHEMATA OWNER                 12        VARCHAR  \n",
       "3            SYSIBM      SYSSCHEMATA DEFINER               12        VARCHAR  \n",
       "4            SYSIBM      SYSSCHEMATA CREATE_TIME           93        TIMESTAMP\n",
       "5            SYSIBM      SYSSCHEMATA REMARKS               12        VARCHAR  \n",
       "6            SYSIBM      SYSSCHEMATA DEFINERTYPE            1        CHAR     \n",
       "7            SYSIBM      SYSSCHEMATA OWNERTYPE              1        CHAR     \n",
       "8            SYSIBM      SYSSCHEMATA DATACAPTURE            1        CHAR     \n",
       "9            SYSIBM      SYSSCHEMATA AUDITPOLICYID          4        INTEGER  \n",
       "10           SYSIBM      SYSSCHEMATA AUDITEXCEPTIONENABLED  1        CHAR     \n",
       "   COLUMN_SIZE BUFFER_LENGTH DECIMAL_DIGITS NUM_PREC_RADIX NULLABLE REMARKS\n",
       "1  128         128           0               0             0               \n",
       "2  128         128           0               0             0               \n",
       "3  128         128           0               0             0               \n",
       "4   26          16           6               0             0               \n",
       "5  254         254           6               0             1               \n",
       "6    1           1           6               0             0               \n",
       "7    1           1           6               0             0               \n",
       "8    1           1           6               0             0               \n",
       "9   10           4           0              10             1               \n",
       "10   1           1           0              10             0               \n",
       "   COLUMN_DEF SQL_DATA_TYPE SQL_DATETIME_SUB CHAR_OCTET_LENGTH ORDINAL_POSITION\n",
       "1             12            0                128                1              \n",
       "2             12            0                128                2              \n",
       "3             12            0                128                3              \n",
       "4              9            3                128                4              \n",
       "5             12            3                254                5              \n",
       "6              1            3                  1                6              \n",
       "7              1            3                  1                7              \n",
       "8              1            3                  1                8              \n",
       "9              4            3                  1                9              \n",
       "10             1            3                  1               10              \n",
       "   IS_NULLABLE\n",
       "1  NO         \n",
       "2  NO         \n",
       "3  NO         \n",
       "4  NO         \n",
       "5  YES        \n",
       "6  NO         \n",
       "7  NO         \n",
       "8  NO         \n",
       "9  YES        \n",
       "10 NO         "
      ]
     },
     "metadata": {},
     "output_type": "display_data"
    }
   ],
   "source": [
    "col.details <- sqlColumns(conn, \"SYSSCHEMATA\")\n",
    "attributes(col.details)\n",
    "dep <- sqlColumns(conn, \"DEPARTMENTS\")\n",
    "dep\n",
    "col.details"
   ]
  },
  {
   "cell_type": "markdown",
   "metadata": {},
   "source": [
    "<details>\n",
    "<summary>Click here to view/hide hint</summary>\n",
    "<p>\n",
    "\n",
    "```\n",
    "# Fill in the ...\n",
    "tab.... <- \"....\"\n",
    "col.detail <- sql...(conn, tab....)\n",
    "print(....detail[c(...,...,7,...,...)], row....=FALSE)\n",
    "```\n",
    "\n",
    "</details>\n"
   ]
  },
  {
   "cell_type": "markdown",
   "metadata": {},
   "source": [
    "<details>\n",
    "<summary>Click here to view/hide solution</summary>\n",
    "<p>\n",
    "\n",
    "```\n",
    "tab.name <- \"<Enter Table>\" # e.g. \"SYSSCHEMATA\"\n",
    "col.detail <- sqlColumns(conn, tab.name)\n",
    "print(col.detail[c(2,3,4,6,7,9,18)], row.names=FALSE)\n",
    "```\n",
    "\n",
    "</details>\n"
   ]
  },
  {
   "cell_type": "markdown",
   "metadata": {},
   "source": [
    "<a id=\"ref6k\"></a>\n",
    "\n",
    "<h3>k. Dis-connect</h3>\n"
   ]
  },
  {
   "cell_type": "markdown",
   "metadata": {},
   "source": [
    "Finally, as a best practice we should close the database connection once we're done with it.\n"
   ]
  },
  {
   "cell_type": "code",
   "execution_count": 67,
   "metadata": {},
   "outputs": [],
   "source": [
    "odbcCloseAll()"
   ]
  },
  {
   "cell_type": "markdown",
   "metadata": {},
   "source": [
    "<details>\n",
    "<summary>Click here to view/hide hint</summary>\n",
    "<p>\n",
    "\n",
    "```\n",
    "odbc...()\n",
    "```\n",
    "\n",
    "</details>\n"
   ]
  },
  {
   "cell_type": "markdown",
   "metadata": {},
   "source": [
    "<details>\n",
    "<summary>Click here to view/hide solution</summary>\n",
    "<p>\n",
    "\n",
    "```\n",
    "odbcCloseAll()\n",
    "```\n",
    "\n",
    "</details>\n"
   ]
  },
  {
   "cell_type": "markdown",
   "metadata": {},
   "source": [
    "<a id=\"ref6o\"></a>\n",
    "\n",
    "<h3>Summary</h3>\n"
   ]
  },
  {
   "cell_type": "markdown",
   "metadata": {},
   "source": [
    "In this lab you accessed data in a Db2 on Cloud database using RODBC connection from a R notebook in Jupyter, and discovered different metadata.\n"
   ]
  },
  {
   "cell_type": "markdown",
   "metadata": {},
   "source": [
    "<hr>\n"
   ]
  },
  {
   "cell_type": "markdown",
   "metadata": {},
   "source": [
    "#### Thank you for completing this lab on getting connected and querying databases using RODBC.\n"
   ]
  },
  {
   "cell_type": "markdown",
   "metadata": {},
   "source": [
    "<hr>\n",
    "\n",
    "## Authors\n",
    "\n",
    "*   [Rav Ahuja](https://ca.linkedin.com/in/rav-ahuja-8aa4562a?utm_medium=Exinfluencer\\&utm_source=Exinfluencer\\&utm_content=000026UJ\\&utm_term=10006555\\&utm_id=NA-SkillsNetwork-Channel-SkillsNetworkCoursesIBMDeveloperSkillsNetworkRP0103ENSkillsNetwork23619267-2021-01-01\\&cm_mmc=Email_Newsletter-\\_-Developer_Ed%2BTech-\\_-WW_WW-\\_-SkillsNetwork-Courses-IBMDeveloperSkillsNetwork-RP0103EN-SkillsNetwork-23619267\\&cm_mmca1=000026UJ\\&cm_mmca2=10006555\\&cm_mmca3=M12345678\\&cvosrc=email.Newsletter.M12345678\\&cvo_campaign=000026UJ)\n",
    "*   [Agatha Colangelo](https://www.linkedin.com/in/agathacolangelo?utm_medium=Exinfluencer\\&utm_source=Exinfluencer\\&utm_content=000026UJ\\&utm_term=10006555\\&utm_id=NA-SkillsNetwork-Channel-SkillsNetworkCoursesIBMDeveloperSkillsNetworkRP0103ENSkillsNetwork23619267-2021-01-01\\&cm_mmc=Email_Newsletter-\\_-Developer_Ed%2BTech-\\_-WW_WW-\\_-SkillsNetwork-Courses-IBMDeveloperSkillsNetwork-RP0103EN-SkillsNetwork-23619267\\&cm_mmca1=000026UJ\\&cm_mmca2=10006555\\&cm_mmca3=M12345678\\&cvosrc=email.Newsletter.M12345678\\&cvo_campaign=000026UJ)\n",
    "*   [Sandip Saha Joy](https://www.linkedin.com/in/sandipsahajoy?utm_medium=Exinfluencer\\&utm_source=Exinfluencer\\&utm_content=000026UJ\\&utm_term=10006555\\&utm_id=NA-SkillsNetwork-Channel-SkillsNetworkCoursesIBMDeveloperSkillsNetworkRP0103ENSkillsNetwork23619267-2021-01-01\\&cm_mmc=Email_Newsletter-\\_-Developer_Ed%2BTech-\\_-WW_WW-\\_-SkillsNetwork-Courses-IBMDeveloperSkillsNetwork-RP0103EN-SkillsNetwork-23619267\\&cm_mmca1=000026UJ\\&cm_mmca2=10006555\\&cm_mmca3=M12345678\\&cvosrc=email.Newsletter.M12345678\\&cvo_campaign=000026UJ)\n",
    "\n",
    "## Changelog\n",
    "\n",
    "| Date (YYYY-MM-DD) | Version | Changed By                   | Change Description                 |\n",
    "| ----------------- | ------- | ---------------------------- | ---------------------------------- |\n",
    "| 2021-07-14        | 2.1    | Lakshmi Holla            | Added ssl changes |\n",
    "| 2021-01-22        | 2.0     | Sandip Saha Joy              | Created revised version of the lab |\n",
    "| 2017              | 1.0     | Rav Ahuja & Agatha Colangelo | Created initial version of the lab |\n",
    "\n",
    "<hr>\n",
    "\n",
    "<h2 align=center><font size = 5>Copyright &copy; IBM Corporation 2017-2021. All rights reserved.</h2>\n"
   ]
  }
 ],
 "metadata": {
  "kernelspec": {
   "display_name": "R",
   "language": "R",
   "name": "conda-env-r-r"
  },
  "language_info": {
   "codemirror_mode": "r",
   "file_extension": ".r",
   "mimetype": "text/x-r-source",
   "name": "R",
   "pygments_lexer": "r",
   "version": "3.5.1"
  },
  "widgets": {
   "state": {},
   "version": "1.1.2"
  }
 },
 "nbformat": 4,
 "nbformat_minor": 4
}
